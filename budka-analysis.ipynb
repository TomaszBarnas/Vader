{
 "cells": [
  {
   "cell_type": "code",
   "execution_count": 11,
   "id": "8cf5204b",
   "metadata": {},
   "outputs": [],
   "source": [
    "import pandas as pd\n",
    "from nltk.sentiment.vader import SentimentIntensityAnalyzer\n",
    "sent_analyzer = SentimentIntensityAnalyzer()\n",
    "twitter_data = pd.read_csv(\"tweet-replies/bbudka-replies-full.csv\")"
   ]
  },
  {
   "cell_type": "code",
   "execution_count": 12,
   "id": "c2965956",
   "metadata": {},
   "outputs": [
    {
     "data": {
      "text/html": [
       "<div>\n",
       "<style scoped>\n",
       "    .dataframe tbody tr th:only-of-type {\n",
       "        vertical-align: middle;\n",
       "    }\n",
       "\n",
       "    .dataframe tbody tr th {\n",
       "        vertical-align: top;\n",
       "    }\n",
       "\n",
       "    .dataframe thead th {\n",
       "        text-align: right;\n",
       "    }\n",
       "</style>\n",
       "<table border=\"1\" class=\"dataframe\">\n",
       "  <thead>\n",
       "    <tr style=\"text-align: right;\">\n",
       "      <th></th>\n",
       "      <th>tweet</th>\n",
       "      <th>tweet translated</th>\n",
       "      <th>sentiment</th>\n",
       "    </tr>\n",
       "  </thead>\n",
       "  <tbody>\n",
       "    <tr>\n",
       "      <th>0</th>\n",
       "      <td>Pięknie pan mówi. W stylu Gebbelsa 😂</td>\n",
       "      <td>You speak beautifully. In the style of gebbels 😂</td>\n",
       "      <td>negative</td>\n",
       "    </tr>\n",
       "    <tr>\n",
       "      <th>1</th>\n",
       "      <td>ciamajdan w Warszawie</td>\n",
       "      <td>Ciamajdan in Warsaw</td>\n",
       "      <td>negative</td>\n",
       "    </tr>\n",
       "    <tr>\n",
       "      <th>2</th>\n",
       "      <td>Gomułka junior zamknij się</td>\n",
       "      <td>Gomułka Junior Shut up</td>\n",
       "      <td>negative</td>\n",
       "    </tr>\n",
       "    <tr>\n",
       "      <th>3</th>\n",
       "      <td>To wy Budka mówicie że będziecie siłą wyprowad...</td>\n",
       "      <td>You say that you say that you will force peopl...</td>\n",
       "      <td>negative</td>\n",
       "    </tr>\n",
       "    <tr>\n",
       "      <th>4</th>\n",
       "      <td>Albo Polin, albo Putin - innego wyboru nie ma.</td>\n",
       "      <td>Either Polin or Putin - there is no other choice.</td>\n",
       "      <td>negative</td>\n",
       "    </tr>\n",
       "  </tbody>\n",
       "</table>\n",
       "</div>"
      ],
      "text/plain": [
       "                                               tweet  \\\n",
       "0               Pięknie pan mówi. W stylu Gebbelsa 😂   \n",
       "1                              ciamajdan w Warszawie   \n",
       "2                         Gomułka junior zamknij się   \n",
       "3  To wy Budka mówicie że będziecie siłą wyprowad...   \n",
       "4     Albo Polin, albo Putin - innego wyboru nie ma.   \n",
       "\n",
       "                                    tweet translated sentiment  \n",
       "0   You speak beautifully. In the style of gebbels 😂  negative  \n",
       "1                                Ciamajdan in Warsaw  negative  \n",
       "2                             Gomułka Junior Shut up  negative  \n",
       "3  You say that you say that you will force peopl...  negative  \n",
       "4  Either Polin or Putin - there is no other choice.  negative  "
      ]
     },
     "execution_count": 12,
     "metadata": {},
     "output_type": "execute_result"
    }
   ],
   "source": [
    "twitter_data.head()"
   ]
  },
  {
   "cell_type": "code",
   "execution_count": 25,
   "id": "b2989a6b",
   "metadata": {},
   "outputs": [],
   "source": [
    "def format_output(output_dict):\n",
    "  polarity = \"neutral\"\n",
    "  if(output_dict['compound']>= 0.05):\n",
    "    polarity = \"positive\"\n",
    "  elif(output_dict['compound']<= -0.05):\n",
    "    polarity = \"negative\"\n",
    "  return polarity\n",
    "\n",
    "def predict_sentiment(text):\n",
    "  \n",
    "  output_dict =  sent_analyzer.polarity_scores(text)\n",
    "  return format_output(output_dict)\n",
    "\n",
    "twitter_data[\"vader_prediction\"] = twitter_data[\"tweet translated\"].apply(predict_sentiment)"
   ]
  },
  {
   "cell_type": "code",
   "execution_count": 26,
   "id": "e3c1dc88",
   "metadata": {},
   "outputs": [
    {
     "name": "stdout",
     "output_type": "stream",
     "text": [
      "Accuracy: 0.36823104693140796\n",
      "\n",
      "              precision    recall  f1-score   support\n",
      "\n",
      "    negative       0.89      0.38      0.53       714\n",
      "     neutral       0.08      0.35      0.13        66\n",
      "    positive       0.06      0.29      0.10        51\n",
      "\n",
      "    accuracy                           0.37       831\n",
      "   macro avg       0.34      0.34      0.25       831\n",
      "weighted avg       0.78      0.37      0.47       831\n",
      "\n"
     ]
    }
   ],
   "source": [
    "from sklearn.metrics import accuracy_score, classification_report, confusion_matrix\n",
    "\n",
    "accuracy = accuracy_score(twitter_data['sentiment'], twitter_data['vader_prediction'])\n",
    "\n",
    "print(\"Accuracy: {}\\n\".format(accuracy))\n",
    "\n",
    "# Show the classification report\n",
    "print(classification_report(twitter_data['sentiment'], twitter_data['vader_prediction']))"
   ]
  },
  {
   "cell_type": "code",
   "execution_count": 31,
   "id": "a431e2cb",
   "metadata": {},
   "outputs": [
    {
     "name": "stdout",
     "output_type": "stream",
     "text": [
      "[[268 249 197]\n",
      " [ 18  23  25]\n",
      " [ 14  22  15]]\n"
     ]
    },
    {
     "name": "stderr",
     "output_type": "stream",
     "text": [
      "C:\\Users\\janka\\AppData\\Local\\Temp/ipykernel_3952/563852666.py:9: UserWarning: FixedFormatter should only be used together with FixedLocator\n",
      "  ax.set_xticklabels([''] + labels)\n",
      "C:\\Users\\janka\\AppData\\Local\\Temp/ipykernel_3952/563852666.py:10: UserWarning: FixedFormatter should only be used together with FixedLocator\n",
      "  ax.set_yticklabels([''] + labels)\n"
     ]
    },
    {
     "data": {
      "image/png": "[encoded data removed]",
      "text/plain": [
       "<Figure size 432x288 with 2 Axes>"
      ]
     },
     "metadata": {
      "needs_background": "light"
     },
     "output_type": "display_data"
    }
   ],
   "source": [
    "import matplotlib.pyplot as plt\n",
    "std = confusion_matrix(twitter_data['sentiment'], twitter_data['vader_prediction'])\n",
    "print(std)\n",
    "fig = plt.figure()\n",
    "ax = fig.add_subplot(111)\n",
    "cax = ax.matshow(std)\n",
    "fig.colorbar(cax)\n",
    "labels = ['negative', 'neutral', 'positive']\n",
    "ax.set_xticklabels([''] + labels)\n",
    "ax.set_yticklabels([''] + labels)\n",
    "plt.xlabel('Predicted')\n",
    "plt.ylabel('True')\n",
    "plt.show()"
   ]
  },
  {
   "cell_type": "code",
   "execution_count": 30,
   "id": "1ff0b39d",
   "metadata": {},
   "outputs": [],
   "source": []
  },
  {
   "cell_type": "code",
   "execution_count": null,
   "id": "022fa541",
   "metadata": {},
   "outputs": [],
   "source": []
  }
 ],
 "metadata": {
  "kernelspec": {
   "display_name": "Python 3 (ipykernel)",
   "language": "python",
   "name": "python3"
  },
  "language_info": {
   "codemirror_mode": {
    "name": "ipython",
    "version": 3
   },
   "file_extension": ".py",
   "mimetype": "text/x-python",
   "name": "python",
   "nbconvert_exporter": "python",
   "pygments_lexer": "ipython3",
   "version": "3.9.7"
  }
 },
 "nbformat": 4,
 "nbformat_minor": 5
}
