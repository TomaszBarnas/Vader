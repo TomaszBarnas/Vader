{
 "cells": [
  {
   "cell_type": "code",
   "execution_count": 2,
   "outputs": [],
   "source": [
    "import os\n",
    "\n",
    "import numpy as np\n",
    "import pandas as pd\n",
    "from dotenv import load_dotenv\n",
    "import tweepy\n",
    "\n",
    "load_dotenv()\n",
    "token = os.getenv('TOKEN')\n",
    "api_key = os.getenv('API_KEY')\n",
    "api_key_secret = os.getenv('API_KEY_SECRET')"
   ],
   "metadata": {
    "collapsed": false,
    "pycharm": {
     "name": "#%%\n"
    }
   }
  },
  {
   "cell_type": "code",
   "execution_count": 191,
   "outputs": [],
   "source": [
    "client = tweepy.Client(\n",
    "    bearer_token=token,\n",
    "    consumer_key=api_key,\n",
    "    consumer_secret=api_key_secret)"
   ],
   "metadata": {
    "collapsed": false,
    "pycharm": {
     "name": "#%%\n"
    }
   }
  },
  {
   "cell_type": "code",
   "execution_count": 192,
   "outputs": [],
   "source": [
    "tweet_id = 1612201848596832256\n",
    "username = '@bbudka'\n",
    "query = f'conversation_id:{tweet_id}'\n",
    "target_count = 1000"
   ],
   "metadata": {
    "collapsed": false,
    "pycharm": {
     "name": "#%%\n"
    }
   }
  },
  {
   "cell_type": "code",
   "execution_count": 193,
   "outputs": [],
   "source": [
    "paginator = tweepy.Paginator(\n",
    "    client.search_recent_tweets,\n",
    "    query,\n",
    "    max_results = 100\n",
    ")"
   ],
   "metadata": {
    "collapsed": false,
    "pycharm": {
     "name": "#%%\n"
    }
   }
  },
  {
   "cell_type": "code",
   "execution_count": 194,
   "outputs": [],
   "source": [
    "def get_row(tweet: tweepy.Tweet):\n",
    "    return tweet.text\n",
    "\n",
    "tweets = pd.DataFrame(\n",
    "    map(get_row, paginator.flatten(limit=target_count)),\n",
    "    columns=['tweet']\n",
    ")"
   ],
   "metadata": {
    "collapsed": false,
    "pycharm": {
     "name": "#%%\n"
    }
   }
  },
  {
   "cell_type": "code",
   "execution_count": 195,
   "outputs": [],
   "source": [
    "import re\n",
    "\n",
    "def remove_mentions(text: str):\n",
    "    pattern = r'\\B@\\w+'\n",
    "    return re.sub(pattern, '', text)\n",
    "\n",
    "def remove_links(text: str):\n",
    "    pattern = r'http\\S+'\n",
    "    if re.search(pattern, text) is not None:\n",
    "        return ''\n",
    "    return text\n",
    "\n",
    "tweets['tweet'] = tweets['tweet'].apply(remove_mentions).apply(remove_links).apply(str.strip)\n",
    "tweets.replace('', np.nan, inplace=True)\n",
    "tweets.dropna(inplace=True)\n",
    "tweets.reset_index(drop=True, inplace=True)"
   ],
   "metadata": {
    "collapsed": false,
    "pycharm": {
     "name": "#%%\n"
    }
   }
  },
  {
   "cell_type": "code",
   "execution_count": 196,
   "outputs": [
    {
     "data": {
      "text/plain": "                                                 tweet\n0                 Pięknie pan mówi. W stylu Gebbelsa 😂\n1                                ciamajdan w Warszawie\n2                           Gomułka junior zamknij się\n3    To wy Budka mówicie że będziecie siłą wyprowad...\n4       Albo Polin, albo Putin - innego wyboru nie ma.\n..                                                 ...\n826  Boże Pan sobie ta wypowiedzią ukręcił bat na w...\n827     PO-wski tępak zapomniał już o ciamajdanie itp.\n828                             A ciamajdan pamiętasz?\n829           🤦🤣😂🤣😂🤣. Przecież to wasza strategia.😂🤣😂🤣\n830  Otóż to, organizatorów ciamajdanu wyślijmy na ...\n\n[831 rows x 1 columns]",
      "text/html": "<div>\n<style scoped>\n    .dataframe tbody tr th:only-of-type {\n        vertical-align: middle;\n    }\n\n    .dataframe tbody tr th {\n        vertical-align: top;\n    }\n\n    .dataframe thead th {\n        text-align: right;\n    }\n</style>\n<table border=\"1\" class=\"dataframe\">\n  <thead>\n    <tr style=\"text-align: right;\">\n      <th></th>\n      <th>tweet</th>\n    </tr>\n  </thead>\n  <tbody>\n    <tr>\n      <th>0</th>\n      <td>Pięknie pan mówi. W stylu Gebbelsa 😂</td>\n    </tr>\n    <tr>\n      <th>1</th>\n      <td>ciamajdan w Warszawie</td>\n    </tr>\n    <tr>\n      <th>2</th>\n      <td>Gomułka junior zamknij się</td>\n    </tr>\n    <tr>\n      <th>3</th>\n      <td>To wy Budka mówicie że będziecie siłą wyprowad...</td>\n    </tr>\n    <tr>\n      <th>4</th>\n      <td>Albo Polin, albo Putin - innego wyboru nie ma.</td>\n    </tr>\n    <tr>\n      <th>...</th>\n      <td>...</td>\n    </tr>\n    <tr>\n      <th>826</th>\n      <td>Boże Pan sobie ta wypowiedzią ukręcił bat na w...</td>\n    </tr>\n    <tr>\n      <th>827</th>\n      <td>PO-wski tępak zapomniał już o ciamajdanie itp.</td>\n    </tr>\n    <tr>\n      <th>828</th>\n      <td>A ciamajdan pamiętasz?</td>\n    </tr>\n    <tr>\n      <th>829</th>\n      <td>🤦🤣😂🤣😂🤣. Przecież to wasza strategia.😂🤣😂🤣</td>\n    </tr>\n    <tr>\n      <th>830</th>\n      <td>Otóż to, organizatorów ciamajdanu wyślijmy na ...</td>\n    </tr>\n  </tbody>\n</table>\n<p>831 rows × 1 columns</p>\n</div>"
     },
     "execution_count": 196,
     "metadata": {},
     "output_type": "execute_result"
    }
   ],
   "source": [
    "tweets"
   ],
   "metadata": {
    "collapsed": false,
    "pycharm": {
     "name": "#%%\n"
    }
   }
  },
  {
   "cell_type": "code",
   "execution_count": 197,
   "outputs": [
    {
     "data": {
      "text/plain": "                                                 tweet sentiment\n0                 Pięknie pan mówi. W stylu Gebbelsa 😂          \n1                                ciamajdan w Warszawie          \n2                           Gomułka junior zamknij się          \n3    To wy Budka mówicie że będziecie siłą wyprowad...          \n4       Albo Polin, albo Putin - innego wyboru nie ma.          \n..                                                 ...       ...\n826  Boże Pan sobie ta wypowiedzią ukręcił bat na w...          \n827     PO-wski tępak zapomniał już o ciamajdanie itp.          \n828                             A ciamajdan pamiętasz?          \n829           🤦🤣😂🤣😂🤣. Przecież to wasza strategia.😂🤣😂🤣          \n830  Otóż to, organizatorów ciamajdanu wyślijmy na ...          \n\n[831 rows x 2 columns]",
      "text/html": "<div>\n<style scoped>\n    .dataframe tbody tr th:only-of-type {\n        vertical-align: middle;\n    }\n\n    .dataframe tbody tr th {\n        vertical-align: top;\n    }\n\n    .dataframe thead th {\n        text-align: right;\n    }\n</style>\n<table border=\"1\" class=\"dataframe\">\n  <thead>\n    <tr style=\"text-align: right;\">\n      <th></th>\n      <th>tweet</th>\n      <th>sentiment</th>\n    </tr>\n  </thead>\n  <tbody>\n    <tr>\n      <th>0</th>\n      <td>Pięknie pan mówi. W stylu Gebbelsa 😂</td>\n      <td></td>\n    </tr>\n    <tr>\n      <th>1</th>\n      <td>ciamajdan w Warszawie</td>\n      <td></td>\n    </tr>\n    <tr>\n      <th>2</th>\n      <td>Gomułka junior zamknij się</td>\n      <td></td>\n    </tr>\n    <tr>\n      <th>3</th>\n      <td>To wy Budka mówicie że będziecie siłą wyprowad...</td>\n      <td></td>\n    </tr>\n    <tr>\n      <th>4</th>\n      <td>Albo Polin, albo Putin - innego wyboru nie ma.</td>\n      <td></td>\n    </tr>\n    <tr>\n      <th>...</th>\n      <td>...</td>\n      <td>...</td>\n    </tr>\n    <tr>\n      <th>826</th>\n      <td>Boże Pan sobie ta wypowiedzią ukręcił bat na w...</td>\n      <td></td>\n    </tr>\n    <tr>\n      <th>827</th>\n      <td>PO-wski tępak zapomniał już o ciamajdanie itp.</td>\n      <td></td>\n    </tr>\n    <tr>\n      <th>828</th>\n      <td>A ciamajdan pamiętasz?</td>\n      <td></td>\n    </tr>\n    <tr>\n      <th>829</th>\n      <td>🤦🤣😂🤣😂🤣. Przecież to wasza strategia.😂🤣😂🤣</td>\n      <td></td>\n    </tr>\n    <tr>\n      <th>830</th>\n      <td>Otóż to, organizatorów ciamajdanu wyślijmy na ...</td>\n      <td></td>\n    </tr>\n  </tbody>\n</table>\n<p>831 rows × 2 columns</p>\n</div>"
     },
     "execution_count": 197,
     "metadata": {},
     "output_type": "execute_result"
    }
   ],
   "source": [
    "df = pd.DataFrame(tweets, columns=['tweet'])\n",
    "df['sentiment'] = ''\n",
    "df"
   ],
   "metadata": {
    "collapsed": false,
    "pycharm": {
     "name": "#%%\n"
    }
   }
  },
  {
   "cell_type": "code",
   "execution_count": 198,
   "outputs": [],
   "source": [
    "center = len(df) // 2\n",
    "df1 = df.iloc[:center]\n",
    "df2 = df.iloc[center:]"
   ],
   "metadata": {
    "collapsed": false,
    "pycharm": {
     "name": "#%%\n"
    }
   }
  },
  {
   "cell_type": "code",
   "execution_count": 199,
   "outputs": [],
   "source": [
    "df1.to_csv('budken1.csv', header=True, index=False)\n",
    "df2.to_csv('budken2.csv', header=True, index=False)"
   ],
   "metadata": {
    "collapsed": false,
    "pycharm": {
     "name": "#%%\n"
    }
   }
  },
  {
   "cell_type": "markdown",
   "source": [
    "Wpisy w plikach .csv zostały następnie ręcznie klasyfikowane"
   ],
   "metadata": {
    "collapsed": false,
    "pycharm": {
     "name": "#%% md\n"
    }
   }
  }
 ],
 "metadata": {
  "kernelspec": {
   "display_name": "Python 3",
   "language": "python",
   "name": "python3"
  },
  "language_info": {
   "codemirror_mode": {
    "name": "ipython",
    "version": 2
   },
   "file_extension": ".py",
   "mimetype": "text/x-python",
   "name": "python",
   "nbconvert_exporter": "python",
   "pygments_lexer": "ipython2",
   "version": "2.7.6"
  }
 },
 "nbformat": 4,
 "nbformat_minor": 0
}