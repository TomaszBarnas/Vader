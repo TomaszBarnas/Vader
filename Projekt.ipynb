{
 "cells": [
  {
   "cell_type": "markdown",
   "id": "9d809e67",
   "metadata": {},
   "source": [
    "# Biblioteka Vader\n",
    "\n",
    "Biblioteka Vader jest narzędziem służącym do przeprowadzania analizy sentymentu, a więc badaniem obiektów języka naturalnego pod kątem emocji i innych subiektywnych stanów, trudnych do zidentyfikowania przez systemy maszynowe. Taka identyfikacja jest możliwa w przypadku biblioteki Vader dzięki słownikowi konkretnych słów z przyporządkowanymi do nich sentymentami. Dzięki nim można obliczyć numeryczny wynik frazy składającej się z wielu słów, który później można przełożyć na stwierdzenie o wydźwięku zdania - im wyższy wynik numeryczny, tym zdanie ma pozytywniejszy wydźwięk."
   ]
  },
  {
   "cell_type": "markdown",
   "id": "65a1b473",
   "metadata": {},
   "source": [
    "### Importowanie biblioteki"
   ]
  },
  {
   "cell_type": "code",
   "execution_count": 4,
   "id": "b7297db1",
   "metadata": {},
   "outputs": [
    {
     "name": "stderr",
     "output_type": "stream",
     "text": [
      "[nltk_data] Downloading package vader_lexicon to\n",
      "[nltk_data]     C:\\Users\\janka\\AppData\\Roaming\\nltk_data...\n",
      "[nltk_data]   Package vader_lexicon is already up-to-date!\n"
     ]
    }
   ],
   "source": [
    "import nltk\n",
    "nltk.download(\"vader_lexicon\")\n",
    "from nltk.sentiment.vader import SentimentIntensityAnalyzer"
   ]
  },
  {
   "cell_type": "markdown",
   "id": "b7f4ef93",
   "metadata": {},
   "source": [
    "### Utworzenie instancji obiektu analizującego tekst"
   ]
  },
  {
   "cell_type": "code",
   "execution_count": 5,
   "id": "d87f53e9",
   "metadata": {},
   "outputs": [],
   "source": [
    "sent_analyzer = SentimentIntensityAnalyzer()"
   ]
  },
  {
   "cell_type": "markdown",
   "id": "5f86097d",
   "metadata": {},
   "source": [
    "## Test działania biblioteki\n",
    "\n",
    "Przetestujemy główną funkcjonalność na przykładzie prostego zdania."
   ]
  },
  {
   "cell_type": "code",
   "execution_count": 8,
   "id": "3729b83b",
   "metadata": {},
   "outputs": [
    {
     "name": "stdout",
     "output_type": "stream",
     "text": [
      "{'neg': 0.0, 'neu': 0.795, 'pos': 0.205, 'compound': 0.4754}\n"
     ]
    }
   ],
   "source": [
    "sentence = \"Darth Vader is one of the most powerful sith lords in the history\"\n",
    "print(sent_analyzer.polarity_scores(sentence))"
   ]
  },
  {
   "cell_type": "markdown",
   "id": "f32565cd",
   "metadata": {},
   "source": [
    "Zdanie zostało zakwalifikowane jako przeważająco neutralne."
   ]
  },
  {
   "cell_type": "code",
   "execution_count": 10,
   "id": "65c82e60",
   "metadata": {},
   "outputs": [
    {
     "name": "stdout",
     "output_type": "stream",
     "text": [
      "{'neg': 0.453, 'neu': 0.547, 'pos': 0.0, 'compound': -0.8516}\n"
     ]
    }
   ],
   "source": [
    "sentence1 = \"Darth Vader is the most evil character in entire Star Wars saga\"\n",
    "print(sent_analyzer.polarity_scores(sentence1))"
   ]
  },
  {
   "cell_type": "markdown",
   "id": "914df965",
   "metadata": {},
   "source": [
    "Zdanie zostało ocenione jako neutralno - negatywne."
   ]
  },
  {
   "cell_type": "markdown",
   "id": "870c1912",
   "metadata": {},
   "source": [
    "## Test działania biblioteki dla danych natywnie anglojęzycznych\n",
    "\n",
    "Sprawdzimy jakość predykcji wydźwięku anglojęzycznych wpisów z portalu Twitter. Dane posiadają już określony sentyment, natomiast biblioteka wykreuje swój własny."
   ]
  },
  {
   "cell_type": "code",
   "execution_count": 11,
   "id": "70b9c487",
   "metadata": {
    "scrolled": true
   },
   "outputs": [
    {
     "data": {
      "text/html": [
       "<div>\n",
       "<style scoped>\n",
       "    .dataframe tbody tr th:only-of-type {\n",
       "        vertical-align: middle;\n",
       "    }\n",
       "\n",
       "    .dataframe tbody tr th {\n",
       "        vertical-align: top;\n",
       "    }\n",
       "\n",
       "    .dataframe thead th {\n",
       "        text-align: right;\n",
       "    }\n",
       "</style>\n",
       "<table border=\"1\" class=\"dataframe\">\n",
       "  <thead>\n",
       "    <tr style=\"text-align: right;\">\n",
       "      <th></th>\n",
       "      <th>4</th>\n",
       "      <th>3</th>\n",
       "      <th>Mon May 11 03:17:40 UTC 2009</th>\n",
       "      <th>kindle2</th>\n",
       "      <th>tpryan</th>\n",
       "      <th>@stellargirl I loooooooovvvvvveee my Kindle2. Not that the DX is cool, but the 2 is fantastic in its own right.</th>\n",
       "    </tr>\n",
       "  </thead>\n",
       "  <tbody>\n",
       "    <tr>\n",
       "      <th>0</th>\n",
       "      <td>4</td>\n",
       "      <td>4</td>\n",
       "      <td>Mon May 11 03:18:03 UTC 2009</td>\n",
       "      <td>kindle2</td>\n",
       "      <td>vcu451</td>\n",
       "      <td>Reading my kindle2...  Love it... Lee childs i...</td>\n",
       "    </tr>\n",
       "    <tr>\n",
       "      <th>1</th>\n",
       "      <td>4</td>\n",
       "      <td>5</td>\n",
       "      <td>Mon May 11 03:18:54 UTC 2009</td>\n",
       "      <td>kindle2</td>\n",
       "      <td>chadfu</td>\n",
       "      <td>Ok, first assesment of the #kindle2 ...it fuck...</td>\n",
       "    </tr>\n",
       "    <tr>\n",
       "      <th>2</th>\n",
       "      <td>4</td>\n",
       "      <td>6</td>\n",
       "      <td>Mon May 11 03:19:04 UTC 2009</td>\n",
       "      <td>kindle2</td>\n",
       "      <td>SIX15</td>\n",
       "      <td>@kenburbary You'll love your Kindle2. I've had...</td>\n",
       "    </tr>\n",
       "  </tbody>\n",
       "</table>\n",
       "</div>"
      ],
      "text/plain": [
       "   4  3  Mon May 11 03:17:40 UTC 2009  kindle2  tpryan  \\\n",
       "0  4  4  Mon May 11 03:18:03 UTC 2009  kindle2  vcu451   \n",
       "1  4  5  Mon May 11 03:18:54 UTC 2009  kindle2  chadfu   \n",
       "2  4  6  Mon May 11 03:19:04 UTC 2009  kindle2   SIX15   \n",
       "\n",
       "  @stellargirl I loooooooovvvvvveee my Kindle2. Not that the DX is cool, but the 2 is fantastic in its own right.  \n",
       "0  Reading my kindle2...  Love it... Lee childs i...                                                               \n",
       "1  Ok, first assesment of the #kindle2 ...it fuck...                                                               \n",
       "2  @kenburbary You'll love your Kindle2. I've had...                                                               "
      ]
     },
     "execution_count": 11,
     "metadata": {},
     "output_type": "execute_result"
    }
   ],
   "source": [
    "import pandas as pd\n",
    "\n",
    "data_url = \"https://raw.githubusercontent.com/keitazoumana/VADER_sentiment-Analysis/main/data/testdata.manual.2009.06.14.csv\"\n",
    "sentiment_data = pd.read_csv(data_url)\n",
    "\n",
    "sentiment_data.head(3)"
   ]
  },
  {
   "cell_type": "markdown",
   "id": "22bf6c08",
   "metadata": {},
   "source": [
    "### Wyłuskanie istotnych informacji"
   ]
  },
  {
   "cell_type": "code",
   "execution_count": 12,
   "id": "c0315864",
   "metadata": {},
   "outputs": [
    {
     "data": {
      "text/html": [
       "<div>\n",
       "<style scoped>\n",
       "    .dataframe tbody tr th:only-of-type {\n",
       "        vertical-align: middle;\n",
       "    }\n",
       "\n",
       "    .dataframe tbody tr th {\n",
       "        vertical-align: top;\n",
       "    }\n",
       "\n",
       "    .dataframe thead th {\n",
       "        text-align: right;\n",
       "    }\n",
       "</style>\n",
       "<table border=\"1\" class=\"dataframe\">\n",
       "  <thead>\n",
       "    <tr style=\"text-align: right;\">\n",
       "      <th></th>\n",
       "      <th>tweet_text</th>\n",
       "      <th>polarity</th>\n",
       "    </tr>\n",
       "  </thead>\n",
       "  <tbody>\n",
       "    <tr>\n",
       "      <th>0</th>\n",
       "      <td>Reading my kindle2...  Love it... Lee childs i...</td>\n",
       "      <td>positive</td>\n",
       "    </tr>\n",
       "    <tr>\n",
       "      <th>1</th>\n",
       "      <td>Ok, first assesment of the #kindle2 ...it fuck...</td>\n",
       "      <td>positive</td>\n",
       "    </tr>\n",
       "    <tr>\n",
       "      <th>2</th>\n",
       "      <td>@kenburbary You'll love your Kindle2. I've had...</td>\n",
       "      <td>positive</td>\n",
       "    </tr>\n",
       "  </tbody>\n",
       "</table>\n",
       "</div>"
      ],
      "text/plain": [
       "                                          tweet_text  polarity\n",
       "0  Reading my kindle2...  Love it... Lee childs i...  positive\n",
       "1  Ok, first assesment of the #kindle2 ...it fuck...  positive\n",
       "2  @kenburbary You'll love your Kindle2. I've had...  positive"
      ]
     },
     "execution_count": 12,
     "metadata": {},
     "output_type": "execute_result"
    }
   ],
   "source": [
    "\n",
    "def format_data(data):\n",
    "\n",
    "  last_col = str(data.columns[-1])\n",
    "  first_col = str(data.columns[0])\n",
    "\n",
    "  data.rename(columns = {last_col: 'tweet_text', first_col: 'polarity'}, inplace=True) \n",
    "\n",
    "  # Change 0, 2, 4 to negative, neutral and positive\n",
    "  labels = {0: 'negative', 2: 'neutral', 4: 'positive'}\n",
    "  data['polarity'] = data['polarity'].map(labels)\n",
    "\n",
    "  # Get only the two columns\n",
    "  return data[['tweet_text', 'polarity']]\n",
    "\n",
    "# Apply the transformation\n",
    "data = format_data(sentiment_data)\n",
    "data.head(3)"
   ]
  },
  {
   "cell_type": "markdown",
   "id": "cfe34b04",
   "metadata": {},
   "source": [
    "### Użycie biblioteki"
   ]
  },
  {
   "cell_type": "code",
   "execution_count": 14,
   "id": "d69340b6",
   "metadata": {},
   "outputs": [
    {
     "name": "stderr",
     "output_type": "stream",
     "text": [
      "C:\\Users\\janka\\AppData\\Local\\Temp/ipykernel_16956/2786527729.py:19: SettingWithCopyWarning: \n",
      "A value is trying to be set on a copy of a slice from a DataFrame.\n",
      "Try using .loc[row_indexer,col_indexer] = value instead\n",
      "\n",
      "See the caveats in the documentation: https://pandas.pydata.org/pandas-docs/stable/user_guide/indexing.html#returning-a-view-versus-a-copy\n",
      "  data[\"vader_prediction\"] = data[\"tweet_text\"].apply(predict_sentiment)\n"
     ]
    },
    {
     "data": {
      "text/html": [
       "<div>\n",
       "<style scoped>\n",
       "    .dataframe tbody tr th:only-of-type {\n",
       "        vertical-align: middle;\n",
       "    }\n",
       "\n",
       "    .dataframe tbody tr th {\n",
       "        vertical-align: top;\n",
       "    }\n",
       "\n",
       "    .dataframe thead th {\n",
       "        text-align: right;\n",
       "    }\n",
       "</style>\n",
       "<table border=\"1\" class=\"dataframe\">\n",
       "  <thead>\n",
       "    <tr style=\"text-align: right;\">\n",
       "      <th></th>\n",
       "      <th>tweet_text</th>\n",
       "      <th>polarity</th>\n",
       "      <th>vader_prediction</th>\n",
       "    </tr>\n",
       "  </thead>\n",
       "  <tbody>\n",
       "    <tr>\n",
       "      <th>275</th>\n",
       "      <td>SOOO DISSAPOiNTED THEY SENT DANNY GOKEY HOME.....</td>\n",
       "      <td>positive</td>\n",
       "      <td>positive</td>\n",
       "    </tr>\n",
       "    <tr>\n",
       "      <th>315</th>\n",
       "      <td>@jonduenas @robynlyn just got us a 50D for the...</td>\n",
       "      <td>positive</td>\n",
       "      <td>positive</td>\n",
       "    </tr>\n",
       "    <tr>\n",
       "      <th>0</th>\n",
       "      <td>Reading my kindle2...  Love it... Lee childs i...</td>\n",
       "      <td>positive</td>\n",
       "      <td>positive</td>\n",
       "    </tr>\n",
       "    <tr>\n",
       "      <th>283</th>\n",
       "      <td>Heading to San Francisco</td>\n",
       "      <td>neutral</td>\n",
       "      <td>neutral</td>\n",
       "    </tr>\n",
       "    <tr>\n",
       "      <th>323</th>\n",
       "      <td>#MBA Admissions Tips Stanford GSB Deadlines an...</td>\n",
       "      <td>neutral</td>\n",
       "      <td>neutral</td>\n",
       "    </tr>\n",
       "  </tbody>\n",
       "</table>\n",
       "</div>"
      ],
      "text/plain": [
       "                                            tweet_text  polarity  \\\n",
       "275  SOOO DISSAPOiNTED THEY SENT DANNY GOKEY HOME.....  positive   \n",
       "315  @jonduenas @robynlyn just got us a 50D for the...  positive   \n",
       "0    Reading my kindle2...  Love it... Lee childs i...  positive   \n",
       "283                           Heading to San Francisco   neutral   \n",
       "323  #MBA Admissions Tips Stanford GSB Deadlines an...   neutral   \n",
       "\n",
       "    vader_prediction  \n",
       "275         positive  \n",
       "315         positive  \n",
       "0           positive  \n",
       "283          neutral  \n",
       "323          neutral  "
      ]
     },
     "execution_count": 14,
     "metadata": {},
     "output_type": "execute_result"
    }
   ],
   "source": [
    "def format_output(output_dict):\n",
    "  \n",
    "  polarity = \"neutral\"\n",
    "\n",
    "  if(output_dict['compound']>= 0.05):\n",
    "    polarity = \"positive\"\n",
    "\n",
    "  elif(output_dict['compound']<= -0.05):\n",
    "    polarity = \"negative\"\n",
    "\n",
    "  return polarity\n",
    "\n",
    "def predict_sentiment(text):\n",
    "  \n",
    "  output_dict =  sent_analyzer.polarity_scores(text)\n",
    "  return format_output(output_dict)\n",
    "\n",
    "# Run the predictions\n",
    "data[\"vader_prediction\"] = data[\"tweet_text\"].apply(predict_sentiment)\n",
    "\n",
    "# Show 5 random rows of the data\n",
    "data.sample(5)"
   ]
  },
  {
   "cell_type": "markdown",
   "id": "f0c9cd14",
   "metadata": {},
   "source": [
    "### Porównanie wyników"
   ]
  },
  {
   "cell_type": "code",
   "execution_count": 36,
   "id": "5b158bbe",
   "metadata": {},
   "outputs": [
    {
     "name": "stdout",
     "output_type": "stream",
     "text": [
      "              precision    recall  f1-score   support\n",
      "\n",
      "    negative       0.84      0.64      0.72       177\n",
      "     neutral       0.67      0.70      0.68       139\n",
      "    positive       0.67      0.81      0.73       181\n",
      "\n",
      "    accuracy                           0.72       497\n",
      "   macro avg       0.73      0.71      0.71       497\n",
      "weighted avg       0.73      0.72      0.72       497\n",
      "\n"
     ]
    }
   ],
   "source": [
    "from sklearn.metrics import classification_report, confusion_matrix\n",
    "print(classification_report(data['polarity'], data['vader_prediction']))"
   ]
  },
  {
   "cell_type": "markdown",
   "id": "83ed2a13",
   "metadata": {},
   "source": [
    "W porównaniu do faktycznego wydźwięku twittów, Vaderowi udało się poprawnie zaklasyfikować 72% przypadków. Wskaźnik precyzji informuje nas, że najtrudniej o pomyłkę było w przypadkach twittów o negatywnym wydźwięku."
   ]
  },
  {
   "cell_type": "code",
   "execution_count": 37,
   "id": "cfc983aa",
   "metadata": {},
   "outputs": [
    {
     "name": "stderr",
     "output_type": "stream",
     "text": [
      "C:\\Users\\janka\\AppData\\Local\\Temp/ipykernel_16956/708792457.py:8: UserWarning: FixedFormatter should only be used together with FixedLocator\n",
      "  ax.set_xticklabels([''] + labels)\n",
      "C:\\Users\\janka\\AppData\\Local\\Temp/ipykernel_16956/708792457.py:9: UserWarning: FixedFormatter should only be used together with FixedLocator\n",
      "  ax.set_yticklabels([''] + labels)\n"
     ]
    },
    {
     "data": {
      "image/png": "[encoded data removed]",
      "text/plain": [
       "<Figure size 432x288 with 2 Axes>"
      ]
     },
     "metadata": {
      "needs_background": "light"
     },
     "output_type": "display_data"
    }
   ],
   "source": [
    "import matplotlib.pyplot as plt\n",
    "m = confusion_matrix(data['polarity'], data['vader_prediction'], normalize=\"all\")\n",
    "fig = plt.figure()\n",
    "ax = fig.add_subplot(111)\n",
    "cax = ax.matshow(m)\n",
    "fig.colorbar(cax)\n",
    "labels = ['negative', 'neutral', 'positive']\n",
    "ax.set_xticklabels([''] + labels)\n",
    "ax.set_yticklabels([''] + labels)\n",
    "plt.xlabel('Predicted')\n",
    "plt.ylabel('True')\n",
    "plt.show()"
   ]
  },
  {
   "cell_type": "markdown",
   "id": "0ce957b6",
   "metadata": {},
   "source": [
    "Z macierzy pomyłek wynika, że Vader całkiem nieźle poradził sobie z zadaniem. Zdecydowana większość przypadków została zaklasyfikowana poprawnie."
   ]
  },
  {
   "cell_type": "markdown",
   "id": "61ff711f",
   "metadata": {},
   "source": [
    "## Test działania biblioteki dla danych natywnie polskojęzycznych tłumaczonych przez zewnętrzne API\n",
    "\n",
    "Sprawdzimy jakość predykcji wydźwięku polskojęzycznych wpisów pod jednym z postów z portalu Twitter. Aby test był miarodajny, potrzebowaliśmy niemałego zbioru danych, który w polskich warunkach można uzyskać głównie na profilach politycznych przy kontrowersyjnych wpisach."
   ]
  },
  {
   "cell_type": "markdown",
   "id": "4c1a17c1",
   "metadata": {},
   "source": [
    "![](images/main_tweet.png)"
   ]
  },
  {
   "cell_type": "markdown",
   "id": "988f25e3",
   "metadata": {},
   "source": [
    "(web-scraping danych z Twittera w notebooku \"scraping.ipynb\", sklejanie plików csv w notebooku \"tweets-preparation.ipynb\")"
   ]
  },
  {
   "cell_type": "code",
   "execution_count": 21,
   "id": "e8f77641",
   "metadata": {},
   "outputs": [
    {
     "data": {
      "text/html": [
       "<div>\n",
       "<style scoped>\n",
       "    .dataframe tbody tr th:only-of-type {\n",
       "        vertical-align: middle;\n",
       "    }\n",
       "\n",
       "    .dataframe tbody tr th {\n",
       "        vertical-align: top;\n",
       "    }\n",
       "\n",
       "    .dataframe thead th {\n",
       "        text-align: right;\n",
       "    }\n",
       "</style>\n",
       "<table border=\"1\" class=\"dataframe\">\n",
       "  <thead>\n",
       "    <tr style=\"text-align: right;\">\n",
       "      <th></th>\n",
       "      <th>tweet</th>\n",
       "      <th>tweet translated</th>\n",
       "      <th>sentiment</th>\n",
       "    </tr>\n",
       "  </thead>\n",
       "  <tbody>\n",
       "    <tr>\n",
       "      <th>0</th>\n",
       "      <td>Pięknie pan mówi. W stylu Gebbelsa 😂</td>\n",
       "      <td>You speak beautifully. In the style of gebbels 😂</td>\n",
       "      <td>negative</td>\n",
       "    </tr>\n",
       "    <tr>\n",
       "      <th>1</th>\n",
       "      <td>ciamajdan w Warszawie</td>\n",
       "      <td>Ciamajdan in Warsaw</td>\n",
       "      <td>negative</td>\n",
       "    </tr>\n",
       "    <tr>\n",
       "      <th>2</th>\n",
       "      <td>Gomułka junior zamknij się</td>\n",
       "      <td>Gomułka Junior Shut up</td>\n",
       "      <td>negative</td>\n",
       "    </tr>\n",
       "    <tr>\n",
       "      <th>3</th>\n",
       "      <td>To wy Budka mówicie że będziecie siłą wyprowad...</td>\n",
       "      <td>You say that you say that you will force peopl...</td>\n",
       "      <td>negative</td>\n",
       "    </tr>\n",
       "    <tr>\n",
       "      <th>4</th>\n",
       "      <td>Albo Polin, albo Putin - innego wyboru nie ma.</td>\n",
       "      <td>Either Polin or Putin - there is no other choice.</td>\n",
       "      <td>negative</td>\n",
       "    </tr>\n",
       "  </tbody>\n",
       "</table>\n",
       "</div>"
      ],
      "text/plain": [
       "                                               tweet  \\\n",
       "0               Pięknie pan mówi. W stylu Gebbelsa 😂   \n",
       "1                              ciamajdan w Warszawie   \n",
       "2                         Gomułka junior zamknij się   \n",
       "3  To wy Budka mówicie że będziecie siłą wyprowad...   \n",
       "4     Albo Polin, albo Putin - innego wyboru nie ma.   \n",
       "\n",
       "                                    tweet translated sentiment  \n",
       "0   You speak beautifully. In the style of gebbels 😂  negative  \n",
       "1                                Ciamajdan in Warsaw  negative  \n",
       "2                             Gomułka Junior Shut up  negative  \n",
       "3  You say that you say that you will force peopl...  negative  \n",
       "4  Either Polin or Putin - there is no other choice.  negative  "
      ]
     },
     "execution_count": 21,
     "metadata": {},
     "output_type": "execute_result"
    }
   ],
   "source": [
    "twitter_data = pd.read_csv(\"tweet-replies/bbudka-replies-full.csv\")\n",
    "twitter_data.head()"
   ]
  },
  {
   "cell_type": "markdown",
   "id": "9c602cdc",
   "metadata": {},
   "source": [
    "### Analiza sentymentu biblioteki i utworzenie nowej kolumny z jej wynikami"
   ]
  },
  {
   "cell_type": "code",
   "execution_count": 23,
   "id": "8a2356d3",
   "metadata": {},
   "outputs": [],
   "source": [
    "twitter_data[\"vader_prediction\"] = twitter_data[\"tweet translated\"].apply(predict_sentiment)"
   ]
  },
  {
   "cell_type": "markdown",
   "id": "024e3e88",
   "metadata": {},
   "source": [
    "### Wyniki"
   ]
  },
  {
   "cell_type": "code",
   "execution_count": 38,
   "id": "214c29a4",
   "metadata": {},
   "outputs": [
    {
     "name": "stdout",
     "output_type": "stream",
     "text": [
      "              precision    recall  f1-score   support\n",
      "\n",
      "    negative       0.89      0.38      0.53       714\n",
      "     neutral       0.08      0.35      0.13        66\n",
      "    positive       0.06      0.29      0.10        51\n",
      "\n",
      "    accuracy                           0.37       831\n",
      "   macro avg       0.34      0.34      0.25       831\n",
      "weighted avg       0.78      0.37      0.47       831\n",
      "\n"
     ]
    }
   ],
   "source": [
    "print(classification_report(twitter_data['sentiment'], twitter_data['vader_prediction']))"
   ]
  },
  {
   "cell_type": "markdown",
   "id": "bbd788da",
   "metadata": {},
   "source": [
    "Dokładność wynosząca 37% to słaby wynik, aczkolwiek z pomiarów precyzji klas wynika, że Vader był w stanie poprawnie zaklasyfikować negatywne wypowiedzi, natomiast te o pozytywnym i neutralnym wydźwięku stanowił dla niego gigantyczny problem."
   ]
  },
  {
   "cell_type": "code",
   "execution_count": 40,
   "id": "27c2fff7",
   "metadata": {},
   "outputs": [
    {
     "name": "stdout",
     "output_type": "stream",
     "text": [
      "[[268 249 197]\n",
      " [ 18  23  25]\n",
      " [ 14  22  15]]\n"
     ]
    },
    {
     "name": "stderr",
     "output_type": "stream",
     "text": [
      "C:\\Users\\janka\\AppData\\Local\\Temp/ipykernel_16956/1765452783.py:8: UserWarning: FixedFormatter should only be used together with FixedLocator\n",
      "  ax.set_xticklabels([''] + labels)\n",
      "C:\\Users\\janka\\AppData\\Local\\Temp/ipykernel_16956/1765452783.py:9: UserWarning: FixedFormatter should only be used together with FixedLocator\n",
      "  ax.set_yticklabels([''] + labels)\n"
     ]
    },
    {
     "data": {
      "image/png": "[encoded data removed]",
      "text/plain": [
       "<Figure size 432x288 with 2 Axes>"
      ]
     },
     "metadata": {
      "needs_background": "light"
     },
     "output_type": "display_data"
    }
   ],
   "source": [
    "m = confusion_matrix(twitter_data['sentiment'], twitter_data['vader_prediction'])\n",
    "print(m)\n",
    "fig = plt.figure()\n",
    "ax = fig.add_subplot(111)\n",
    "cax = ax.matshow(m)\n",
    "fig.colorbar(cax)\n",
    "labels = ['negative', 'neutral', 'positive']\n",
    "ax.set_xticklabels([''] + labels)\n",
    "ax.set_yticklabels([''] + labels)\n",
    "plt.xlabel('Predicted')\n",
    "plt.ylabel('True')\n",
    "plt.show()"
   ]
  },
  {
   "cell_type": "markdown",
   "id": "0a2a3df4",
   "metadata": {},
   "source": [
    "Z macierzy pomyłek wynika, że w zbiorze danych przeważają twitty o charakterze negatywnym, pozostałe to zaledwie ułamek. \n",
    "\n",
    "Przyjrzyjmy się przykładom twittów, które zostały źle zaklasyfikowane w każdej z klas, aby dostrzec pewne zależności."
   ]
  },
  {
   "cell_type": "code",
   "execution_count": 52,
   "id": "e7b4e736",
   "metadata": {},
   "outputs": [
    {
     "data": {
      "text/html": [
       "<div>\n",
       "<style scoped>\n",
       "    .dataframe tbody tr th:only-of-type {\n",
       "        vertical-align: middle;\n",
       "    }\n",
       "\n",
       "    .dataframe tbody tr th {\n",
       "        vertical-align: top;\n",
       "    }\n",
       "\n",
       "    .dataframe thead th {\n",
       "        text-align: right;\n",
       "    }\n",
       "</style>\n",
       "<table border=\"1\" class=\"dataframe\">\n",
       "  <thead>\n",
       "    <tr style=\"text-align: right;\">\n",
       "      <th></th>\n",
       "      <th>tweet</th>\n",
       "      <th>tweet translated</th>\n",
       "      <th>sentiment</th>\n",
       "      <th>vader_prediction</th>\n",
       "    </tr>\n",
       "  </thead>\n",
       "  <tbody>\n",
       "    <tr>\n",
       "      <th>32</th>\n",
       "      <td>👍🎯👊</td>\n",
       "      <td>Ressive</td>\n",
       "      <td>positive</td>\n",
       "      <td>neutral</td>\n",
       "    </tr>\n",
       "    <tr>\n",
       "      <th>34</th>\n",
       "      <td>💪</td>\n",
       "      <td>💪</td>\n",
       "      <td>positive</td>\n",
       "      <td>neutral</td>\n",
       "    </tr>\n",
       "    <tr>\n",
       "      <th>49</th>\n",
       "      <td>Ulica będzie, jeśli kaczytler zrobi przy wybor...</td>\n",
       "      <td>The street will be if Kadzadler makes at least...</td>\n",
       "      <td>positive</td>\n",
       "      <td>negative</td>\n",
       "    </tr>\n",
       "    <tr>\n",
       "      <th>88</th>\n",
       "      <td>👏👏👏</td>\n",
       "      <td>👏👏👏</td>\n",
       "      <td>positive</td>\n",
       "      <td>neutral</td>\n",
       "    </tr>\n",
       "    <tr>\n",
       "      <th>101</th>\n",
       "      <td>W samo sedno</td>\n",
       "      <td>In the point</td>\n",
       "      <td>positive</td>\n",
       "      <td>neutral</td>\n",
       "    </tr>\n",
       "  </tbody>\n",
       "</table>\n",
       "</div>"
      ],
      "text/plain": [
       "                                                 tweet  \\\n",
       "32                                                 👍🎯👊   \n",
       "34                                                   💪   \n",
       "49   Ulica będzie, jeśli kaczytler zrobi przy wybor...   \n",
       "88                                                 👏👏👏   \n",
       "101                                       W samo sedno   \n",
       "\n",
       "                                      tweet translated sentiment  \\\n",
       "32                                             Ressive  positive   \n",
       "34                                                   💪  positive   \n",
       "49   The street will be if Kadzadler makes at least...  positive   \n",
       "88                                                 👏👏👏  positive   \n",
       "101                                       In the point  positive   \n",
       "\n",
       "    vader_prediction  \n",
       "32           neutral  \n",
       "34           neutral  \n",
       "49          negative  \n",
       "88           neutral  \n",
       "101          neutral  "
      ]
     },
     "execution_count": 52,
     "metadata": {},
     "output_type": "execute_result"
    }
   ],
   "source": [
    "twitter_data[(twitter_data[\"sentiment\"] == \"positive\") & (twitter_data[\"vader_prediction\"] != \"positive\")].head()"
   ]
  },
  {
   "cell_type": "markdown",
   "id": "7b96d1cc",
   "metadata": {},
   "source": [
    "Tutaj widać, że Vader nie jest w stanie poprawnie określić sentymentu, gdy autor użytuje emoji. "
   ]
  },
  {
   "cell_type": "code",
   "execution_count": 53,
   "id": "f912f6c8",
   "metadata": {},
   "outputs": [
    {
     "data": {
      "text/html": [
       "<div>\n",
       "<style scoped>\n",
       "    .dataframe tbody tr th:only-of-type {\n",
       "        vertical-align: middle;\n",
       "    }\n",
       "\n",
       "    .dataframe tbody tr th {\n",
       "        vertical-align: top;\n",
       "    }\n",
       "\n",
       "    .dataframe thead th {\n",
       "        text-align: right;\n",
       "    }\n",
       "</style>\n",
       "<table border=\"1\" class=\"dataframe\">\n",
       "  <thead>\n",
       "    <tr style=\"text-align: right;\">\n",
       "      <th></th>\n",
       "      <th>tweet</th>\n",
       "      <th>tweet translated</th>\n",
       "      <th>sentiment</th>\n",
       "      <th>vader_prediction</th>\n",
       "    </tr>\n",
       "  </thead>\n",
       "  <tbody>\n",
       "    <tr>\n",
       "      <th>13</th>\n",
       "      <td>KPO głównie dotyczy ekologii. To będzie trudne...</td>\n",
       "      <td>KPO mainly concerns ecology. It will be diffic...</td>\n",
       "      <td>neutral</td>\n",
       "      <td>negative</td>\n",
       "    </tr>\n",
       "    <tr>\n",
       "      <th>39</th>\n",
       "      <td>To było po? Przed był incydent z posłem</td>\n",
       "      <td>It was PO? There was an incident with a deputy...</td>\n",
       "      <td>neutral</td>\n",
       "      <td>negative</td>\n",
       "    </tr>\n",
       "    <tr>\n",
       "      <th>65</th>\n",
       "      <td>BTW... jak wydedukowałeś, że popieram PO? XD</td>\n",
       "      <td>Btw ... how did you deduce that I support PO? xD</td>\n",
       "      <td>neutral</td>\n",
       "      <td>positive</td>\n",
       "    </tr>\n",
       "    <tr>\n",
       "      <th>82</th>\n",
       "      <td>Don Diego de la Vega, wyręczłeś mnie - dzięki.😀😉</td>\n",
       "      <td>Don Diego de la Vega, you did me - thanks.</td>\n",
       "      <td>neutral</td>\n",
       "      <td>positive</td>\n",
       "    </tr>\n",
       "    <tr>\n",
       "      <th>92</th>\n",
       "      <td>No jak o co ? Szanuje instytucje publiczną</td>\n",
       "      <td>How about what? Respects public institutions</td>\n",
       "      <td>neutral</td>\n",
       "      <td>positive</td>\n",
       "    </tr>\n",
       "  </tbody>\n",
       "</table>\n",
       "</div>"
      ],
      "text/plain": [
       "                                                tweet  \\\n",
       "13  KPO głównie dotyczy ekologii. To będzie trudne...   \n",
       "39            To było po? Przed był incydent z posłem   \n",
       "65       BTW... jak wydedukowałeś, że popieram PO? XD   \n",
       "82   Don Diego de la Vega, wyręczłeś mnie - dzięki.😀😉   \n",
       "92         No jak o co ? Szanuje instytucje publiczną   \n",
       "\n",
       "                                     tweet translated sentiment  \\\n",
       "13  KPO mainly concerns ecology. It will be diffic...   neutral   \n",
       "39  It was PO? There was an incident with a deputy...   neutral   \n",
       "65   Btw ... how did you deduce that I support PO? xD   neutral   \n",
       "82         Don Diego de la Vega, you did me - thanks.   neutral   \n",
       "92       How about what? Respects public institutions   neutral   \n",
       "\n",
       "   vader_prediction  \n",
       "13         negative  \n",
       "39         negative  \n",
       "65         positive  \n",
       "82         positive  \n",
       "92         positive  "
      ]
     },
     "execution_count": 53,
     "metadata": {},
     "output_type": "execute_result"
    }
   ],
   "source": [
    "twitter_data[(twitter_data[\"sentiment\"] == \"neutral\") & (twitter_data[\"vader_prediction\"] != \"neutral\")].head()"
   ]
  },
  {
   "cell_type": "code",
   "execution_count": 57,
   "id": "ae3acd1b",
   "metadata": {},
   "outputs": [
    {
     "data": {
      "text/html": [
       "<div>\n",
       "<style scoped>\n",
       "    .dataframe tbody tr th:only-of-type {\n",
       "        vertical-align: middle;\n",
       "    }\n",
       "\n",
       "    .dataframe tbody tr th {\n",
       "        vertical-align: top;\n",
       "    }\n",
       "\n",
       "    .dataframe thead th {\n",
       "        text-align: right;\n",
       "    }\n",
       "</style>\n",
       "<table border=\"1\" class=\"dataframe\">\n",
       "  <thead>\n",
       "    <tr style=\"text-align: right;\">\n",
       "      <th></th>\n",
       "      <th>tweet</th>\n",
       "      <th>tweet translated</th>\n",
       "      <th>sentiment</th>\n",
       "      <th>vader_prediction</th>\n",
       "    </tr>\n",
       "  </thead>\n",
       "  <tbody>\n",
       "    <tr>\n",
       "      <th>0</th>\n",
       "      <td>Pięknie pan mówi. W stylu Gebbelsa 😂</td>\n",
       "      <td>You speak beautifully. In the style of gebbels 😂</td>\n",
       "      <td>negative</td>\n",
       "      <td>positive</td>\n",
       "    </tr>\n",
       "    <tr>\n",
       "      <th>1</th>\n",
       "      <td>ciamajdan w Warszawie</td>\n",
       "      <td>Ciamajdan in Warsaw</td>\n",
       "      <td>negative</td>\n",
       "      <td>neutral</td>\n",
       "    </tr>\n",
       "    <tr>\n",
       "      <th>2</th>\n",
       "      <td>Gomułka junior zamknij się</td>\n",
       "      <td>Gomułka Junior Shut up</td>\n",
       "      <td>negative</td>\n",
       "      <td>neutral</td>\n",
       "    </tr>\n",
       "    <tr>\n",
       "      <th>5</th>\n",
       "      <td>No, IQ Budki z piwem... :)</td>\n",
       "      <td>Well, IQ beer booths ... :)</td>\n",
       "      <td>negative</td>\n",
       "      <td>positive</td>\n",
       "    </tr>\n",
       "    <tr>\n",
       "      <th>6</th>\n",
       "      <td>Czy pana dziadek panie   był szympansem? Widzę...</td>\n",
       "      <td>Was your grandfather sir? I see some similarit...</td>\n",
       "      <td>negative</td>\n",
       "      <td>positive</td>\n",
       "    </tr>\n",
       "  </tbody>\n",
       "</table>\n",
       "</div>"
      ],
      "text/plain": [
       "                                               tweet  \\\n",
       "0               Pięknie pan mówi. W stylu Gebbelsa 😂   \n",
       "1                              ciamajdan w Warszawie   \n",
       "2                         Gomułka junior zamknij się   \n",
       "5                         No, IQ Budki z piwem... :)   \n",
       "6  Czy pana dziadek panie   był szympansem? Widzę...   \n",
       "\n",
       "                                    tweet translated sentiment  \\\n",
       "0   You speak beautifully. In the style of gebbels 😂  negative   \n",
       "1                                Ciamajdan in Warsaw  negative   \n",
       "2                             Gomułka Junior Shut up  negative   \n",
       "5                        Well, IQ beer booths ... :)  negative   \n",
       "6  Was your grandfather sir? I see some similarit...  negative   \n",
       "\n",
       "  vader_prediction  \n",
       "0         positive  \n",
       "1          neutral  \n",
       "2          neutral  \n",
       "5         positive  \n",
       "6         positive  "
      ]
     },
     "execution_count": 57,
     "metadata": {},
     "output_type": "execute_result"
    }
   ],
   "source": [
    "twitter_data[(twitter_data[\"sentiment\"] == \"negative\") & (twitter_data[\"vader_prediction\"] != \"negative\")].head()"
   ]
  },
  {
   "cell_type": "markdown",
   "id": "4f852fcd",
   "metadata": {},
   "source": [
    "Z dwóch powyższych klas widać dobitnie, że Vader bazuje na pewnych słowach kluczowych, które bez względu na kontekst użycia determinują przynależność obserwacji do konkretnej klasy."
   ]
  },
  {
   "cell_type": "markdown",
   "id": "dd364a80",
   "metadata": {},
   "source": [
    "## Wnioski"
   ]
  },
  {
   "cell_type": "markdown",
   "id": "d9f90e97",
   "metadata": {},
   "source": [
    "Z powyższych przykładów wynika, że biblioteka Vader jest narzędziem, które może osiągać w zależności od użycia rozbieżne rezultaty. Pomimo, że oba zbiory pochodzą z portalu społecznościowego Twitter, Vader znacznie lepiej określił sentymenty w pierwszym, anglojęzycznym przypadku. Oba testy nie są jednak tak samo miarodajne, ponieważ zbiór drugi należało odpowiednio dostosować do analizy - samo użycie translatora znacznie zniekształciło dane, co widać po powyższych przykładach i zestawieniach tłumaczeń z oryginałami. Ponadto, źródłem danych jest post o zabarwieniu politycznym, który wywoła cały szereg emocji wśród użytkowników - złość, ironię, frustrację, rozbawienie, czyli wszystkie te tak trudne do wykrycia czynniki przez komputer. Szczególnie, że wpływ pojedynczych słów kluczowych często rzutuje na całą frazę, pomimo że są użyte w zupełnie innym kontekście niż tym, który Vader ma zaprogramowany. Prawdopodobnie Vader osiągnąłby wyższe wyniki na platformie z użytkownikami niestosującymi takich zagrywek, których wiadomości nie są zakodowane tak silnymi, trudnymi do odczytania emocjami, np. Reddit.Zwrócić uwagę należy też na fakt, że duża część interakcji w serwisie Twitter zachodzi nie tylko poprzez słowa, ale również za pomocą obrazów. Niestety, Vader nie jest w stanie w jakikolwiek sposób interpretować grafikę, a komentarze pozbawione grafiki często zupełnie tracą kontekst, w którym zostały umieszczone. "
   ]
  }
 ],
 "metadata": {
  "kernelspec": {
   "display_name": "Python 3 (ipykernel)",
   "language": "python",
   "name": "python3"
  },
  "language_info": {
   "codemirror_mode": {
    "name": "ipython",
    "version": 3
   },
   "file_extension": ".py",
   "mimetype": "text/x-python",
   "name": "python",
   "nbconvert_exporter": "python",
   "pygments_lexer": "ipython3",
   "version": "3.9.7"
  }
 },
 "nbformat": 4,
 "nbformat_minor": 5
}
