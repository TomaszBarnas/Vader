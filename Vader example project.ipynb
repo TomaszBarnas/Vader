{
 "cells": [
  {
   "cell_type": "code",
   "execution_count": 1,
   "id": "ffb774d4",
   "metadata": {
    "pycharm": {
     "name": "#%%\n"
    }
   },
   "outputs": [
    {
     "name": "stdout",
     "output_type": "stream",
     "text": [
      "Requirement already satisfied: nltk in c:\\users\\w___b\\anaconda3\\envs\\workspace\\lib\\site-packages (3.7)\n",
      "Requirement already satisfied: tqdm in c:\\users\\w___b\\anaconda3\\envs\\workspace\\lib\\site-packages (from nltk) (4.64.1)\n",
      "Requirement already satisfied: click in c:\\users\\w___b\\anaconda3\\envs\\workspace\\lib\\site-packages (from nltk) (8.0.4)\n",
      "Requirement already satisfied: regex>=2021.8.3 in c:\\users\\w___b\\anaconda3\\envs\\workspace\\lib\\site-packages (from nltk) (2022.7.9)\n",
      "Requirement already satisfied: joblib in c:\\users\\w___b\\anaconda3\\envs\\workspace\\lib\\site-packages (from nltk) (1.1.0)\n",
      "Requirement already satisfied: colorama in c:\\users\\w___b\\anaconda3\\envs\\workspace\\lib\\site-packages (from click->nltk) (0.4.4)\n"
     ]
    }
   ],
   "source": [
    "# Install and import nltk\n",
    "!pip install nltk\n",
    "import nltk\n"
   ]
  },
  {
   "cell_type": "code",
   "execution_count": 2,
   "id": "e3d98316",
   "metadata": {
    "pycharm": {
     "name": "#%%\n"
    }
   },
   "outputs": [
    {
     "name": "stderr",
     "output_type": "stream",
     "text": [
      "[nltk_data] Downloading package vader_lexicon to\n",
      "[nltk_data]     C:\\Users\\w___B\\AppData\\Roaming\\nltk_data...\n",
      "[nltk_data]   Package vader_lexicon is already up-to-date!\n"
     ]
    },
    {
     "data": {
      "text/plain": "True"
     },
     "execution_count": 2,
     "metadata": {},
     "output_type": "execute_result"
    }
   ],
   "source": [
    "# Download the lexicon\n",
    "nltk.download(\"vader_lexicon\")"
   ]
  },
  {
   "cell_type": "code",
   "execution_count": 3,
   "id": "7912ef06",
   "metadata": {
    "pycharm": {
     "name": "#%%\n"
    }
   },
   "outputs": [],
   "source": [
    "# Import the lexicon \n",
    "from nltk.sentiment.vader import SentimentIntensityAnalyzer"
   ]
  },
  {
   "cell_type": "code",
   "execution_count": 4,
   "id": "73b863f7",
   "metadata": {
    "pycharm": {
     "name": "#%%\n"
    }
   },
   "outputs": [],
   "source": [
    "# Create an instance of SentimentIntensityAnalyzer\n",
    "sent_analyzer = SentimentIntensityAnalyzer()"
   ]
  },
  {
   "cell_type": "code",
   "execution_count": 5,
   "id": "3d44d096",
   "metadata": {
    "pycharm": {
     "name": "#%%\n"
    }
   },
   "outputs": [
    {
     "name": "stdout",
     "output_type": "stream",
     "text": [
      "{'neg': 0.0, 'neu': 1.0, 'pos': 0.0, 'compound': 0.0}\n"
     ]
    }
   ],
   "source": [
    "# warmup sentecne\n",
    "sentence = \"Darth Vader is one of the most powerfull sith lords in the history\"\n",
    "print(sent_analyzer.polarity_scores(sentence))\n"
   ]
  },
  {
   "cell_type": "code",
   "execution_count": 6,
   "id": "d5953bc5",
   "metadata": {
    "pycharm": {
     "name": "#%%\n"
    }
   },
   "outputs": [
    {
     "name": "stdout",
     "output_type": "stream",
     "text": [
      "{'neg': 0.48, 'neu': 0.52, 'pos': 0.0, 'compound': -0.8516}\n"
     ]
    }
   ],
   "source": [
    "sentence1 = \"Darth Vader the most evil character in entire Star Wars saga\"\n",
    "print(sent_analyzer.polarity_scores(sentence1))"
   ]
  },
  {
   "cell_type": "code",
   "execution_count": 7,
   "id": "afa49983",
   "metadata": {
    "pycharm": {
     "name": "#%%\n"
    }
   },
   "outputs": [
    {
     "data": {
      "text/plain": "   4  3  Mon May 11 03:17:40 UTC 2009  kindle2  tpryan  \\\n0  4  4  Mon May 11 03:18:03 UTC 2009  kindle2  vcu451   \n1  4  5  Mon May 11 03:18:54 UTC 2009  kindle2  chadfu   \n2  4  6  Mon May 11 03:19:04 UTC 2009  kindle2   SIX15   \n\n  @stellargirl I loooooooovvvvvveee my Kindle2. Not that the DX is cool, but the 2 is fantastic in its own right.  \n0  Reading my kindle2...  Love it... Lee childs i...                                                               \n1  Ok, first assesment of the #kindle2 ...it fuck...                                                               \n2  @kenburbary You'll love your Kindle2. I've had...                                                               ",
      "text/html": "<div>\n<style scoped>\n    .dataframe tbody tr th:only-of-type {\n        vertical-align: middle;\n    }\n\n    .dataframe tbody tr th {\n        vertical-align: top;\n    }\n\n    .dataframe thead th {\n        text-align: right;\n    }\n</style>\n<table border=\"1\" class=\"dataframe\">\n  <thead>\n    <tr style=\"text-align: right;\">\n      <th></th>\n      <th>4</th>\n      <th>3</th>\n      <th>Mon May 11 03:17:40 UTC 2009</th>\n      <th>kindle2</th>\n      <th>tpryan</th>\n      <th>@stellargirl I loooooooovvvvvveee my Kindle2. Not that the DX is cool, but the 2 is fantastic in its own right.</th>\n    </tr>\n  </thead>\n  <tbody>\n    <tr>\n      <th>0</th>\n      <td>4</td>\n      <td>4</td>\n      <td>Mon May 11 03:18:03 UTC 2009</td>\n      <td>kindle2</td>\n      <td>vcu451</td>\n      <td>Reading my kindle2...  Love it... Lee childs i...</td>\n    </tr>\n    <tr>\n      <th>1</th>\n      <td>4</td>\n      <td>5</td>\n      <td>Mon May 11 03:18:54 UTC 2009</td>\n      <td>kindle2</td>\n      <td>chadfu</td>\n      <td>Ok, first assesment of the #kindle2 ...it fuck...</td>\n    </tr>\n    <tr>\n      <th>2</th>\n      <td>4</td>\n      <td>6</td>\n      <td>Mon May 11 03:19:04 UTC 2009</td>\n      <td>kindle2</td>\n      <td>SIX15</td>\n      <td>@kenburbary You'll love your Kindle2. I've had...</td>\n    </tr>\n  </tbody>\n</table>\n</div>"
     },
     "execution_count": 7,
     "metadata": {},
     "output_type": "execute_result"
    }
   ],
   "source": [
    "import pandas as pd\n",
    "\n",
    "# Read the data set\n",
    "data_url = \"https://raw.githubusercontent.com/keitazoumana/VADER_sentiment-Analysis/main/data/testdata.manual.2009.06.14.csv\"\n",
    "sentiment_data = pd.read_csv(data_url)\n",
    "\n",
    "sentiment_data.head(3)"
   ]
  },
  {
   "cell_type": "code",
   "execution_count": 8,
   "id": "607be720",
   "metadata": {
    "pycharm": {
     "name": "#%%\n"
    }
   },
   "outputs": [
    {
     "data": {
      "text/plain": "                                          tweet_text  polarity\n0  Reading my kindle2...  Love it... Lee childs i...  positive\n1  Ok, first assesment of the #kindle2 ...it fuck...  positive\n2  @kenburbary You'll love your Kindle2. I've had...  positive",
      "text/html": "<div>\n<style scoped>\n    .dataframe tbody tr th:only-of-type {\n        vertical-align: middle;\n    }\n\n    .dataframe tbody tr th {\n        vertical-align: top;\n    }\n\n    .dataframe thead th {\n        text-align: right;\n    }\n</style>\n<table border=\"1\" class=\"dataframe\">\n  <thead>\n    <tr style=\"text-align: right;\">\n      <th></th>\n      <th>tweet_text</th>\n      <th>polarity</th>\n    </tr>\n  </thead>\n  <tbody>\n    <tr>\n      <th>0</th>\n      <td>Reading my kindle2...  Love it... Lee childs i...</td>\n      <td>positive</td>\n    </tr>\n    <tr>\n      <th>1</th>\n      <td>Ok, first assesment of the #kindle2 ...it fuck...</td>\n      <td>positive</td>\n    </tr>\n    <tr>\n      <th>2</th>\n      <td>@kenburbary You'll love your Kindle2. I've had...</td>\n      <td>positive</td>\n    </tr>\n  </tbody>\n</table>\n</div>"
     },
     "execution_count": 8,
     "metadata": {},
     "output_type": "execute_result"
    }
   ],
   "source": [
    "\n",
    "def format_data(data):\n",
    "\n",
    "  last_col = str(data.columns[-1])\n",
    "  first_col = str(data.columns[0])\n",
    "\n",
    "  data.rename(columns = {last_col: 'tweet_text', first_col: 'polarity'}, inplace=True) \n",
    "\n",
    "  # Change 0, 2, 4 to negative, neutral and positive\n",
    "  labels = {0: 'negative', 2: 'neutral', 4: 'positive'}\n",
    "  data['polarity'] = data['polarity'].map(labels)\n",
    "\n",
    "  # Get only the two columns\n",
    "  return data[['tweet_text', 'polarity']]\n",
    "\n",
    "# Apply the transformation\n",
    "data = format_data(sentiment_data)\n",
    "data.head(3)"
   ]
  },
  {
   "cell_type": "code",
   "execution_count": 9,
   "id": "4cc74962",
   "metadata": {
    "pycharm": {
     "name": "#%%\n"
    }
   },
   "outputs": [
    {
     "name": "stderr",
     "output_type": "stream",
     "text": [
      "C:\\Users\\w___B\\AppData\\Local\\Temp\\ipykernel_27728\\4169198620.py:19: SettingWithCopyWarning: \n",
      "A value is trying to be set on a copy of a slice from a DataFrame.\n",
      "Try using .loc[row_indexer,col_indexer] = value instead\n",
      "\n",
      "See the caveats in the documentation: https://pandas.pydata.org/pandas-docs/stable/user_guide/indexing.html#returning-a-view-versus-a-copy\n",
      "  data[\"vader_prediction\"] = data[\"tweet_text\"].apply(predict_sentiment)\n"
     ]
    },
    {
     "data": {
      "text/plain": "                                            tweet_text  polarity  \\\n59   @robmalon Playing with Twitter API sounds fun....  positive   \n108  Goodby Silverstein agency new site! http://www...  positive   \n254                  @Lou911 Lebron is MURDERING shit.  positive   \n61                                Hello Twitter API ;)  positive   \n332  Nancy Pelosi gave the worst commencement speec...  negative   \n\n    vader_prediction  \n59          positive  \n108         positive  \n254         negative  \n61          positive  \n332         negative  ",
      "text/html": "<div>\n<style scoped>\n    .dataframe tbody tr th:only-of-type {\n        vertical-align: middle;\n    }\n\n    .dataframe tbody tr th {\n        vertical-align: top;\n    }\n\n    .dataframe thead th {\n        text-align: right;\n    }\n</style>\n<table border=\"1\" class=\"dataframe\">\n  <thead>\n    <tr style=\"text-align: right;\">\n      <th></th>\n      <th>tweet_text</th>\n      <th>polarity</th>\n      <th>vader_prediction</th>\n    </tr>\n  </thead>\n  <tbody>\n    <tr>\n      <th>59</th>\n      <td>@robmalon Playing with Twitter API sounds fun....</td>\n      <td>positive</td>\n      <td>positive</td>\n    </tr>\n    <tr>\n      <th>108</th>\n      <td>Goodby Silverstein agency new site! http://www...</td>\n      <td>positive</td>\n      <td>positive</td>\n    </tr>\n    <tr>\n      <th>254</th>\n      <td>@Lou911 Lebron is MURDERING shit.</td>\n      <td>positive</td>\n      <td>negative</td>\n    </tr>\n    <tr>\n      <th>61</th>\n      <td>Hello Twitter API ;)</td>\n      <td>positive</td>\n      <td>positive</td>\n    </tr>\n    <tr>\n      <th>332</th>\n      <td>Nancy Pelosi gave the worst commencement speec...</td>\n      <td>negative</td>\n      <td>negative</td>\n    </tr>\n  </tbody>\n</table>\n</div>"
     },
     "execution_count": 9,
     "metadata": {},
     "output_type": "execute_result"
    }
   ],
   "source": [
    "def format_output(output_dict):\n",
    "  \n",
    "  polarity = \"neutral\"\n",
    "\n",
    "  if(output_dict['compound']>= 0.05):\n",
    "    polarity = \"positive\"\n",
    "\n",
    "  elif(output_dict['compound']<= -0.05):\n",
    "    polarity = \"negative\"\n",
    "\n",
    "  return polarity\n",
    "\n",
    "def predict_sentiment(text):\n",
    "  \n",
    "  output_dict =  sent_analyzer.polarity_scores(text)\n",
    "  return format_output(output_dict)\n",
    "\n",
    "# Run the predictions\n",
    "data[\"vader_prediction\"] = data[\"tweet_text\"].apply(predict_sentiment)\n",
    "\n",
    "# Show 5 random rows of the data\n",
    "data.sample(5)"
   ]
  },
  {
   "cell_type": "code",
   "execution_count": 10,
   "id": "3ae3f96a",
   "metadata": {
    "pycharm": {
     "name": "#%%\n"
    }
   },
   "outputs": [
    {
     "name": "stdout",
     "output_type": "stream",
     "text": [
      "Accuracy: 0.716297786720322\n",
      "\n",
      "              precision    recall  f1-score   support\n",
      "\n",
      "    negative       0.84      0.64      0.72       177\n",
      "     neutral       0.67      0.70      0.68       139\n",
      "    positive       0.67      0.81      0.73       181\n",
      "\n",
      "    accuracy                           0.72       497\n",
      "   macro avg       0.73      0.71      0.71       497\n",
      "weighted avg       0.73      0.72      0.72       497\n",
      "\n"
     ]
    }
   ],
   "source": [
    "from sklearn.metrics import accuracy_score, classification_report\n",
    "\n",
    "accuracy = accuracy_score(data['polarity'], data['vader_prediction'])\n",
    "\n",
    "print(\"Accuracy: {}\\n\".format(accuracy))\n",
    "\n",
    "# Show the classification report\n",
    "print(classification_report(data['polarity'], data['vader_prediction']))"
   ]
  },
  {
   "cell_type": "code",
   "execution_count": 10,
   "id": "55cc7a75",
   "metadata": {
    "pycharm": {
     "name": "#%%\n"
    }
   },
   "outputs": [],
   "source": []
  }
 ],
 "metadata": {
  "kernelspec": {
   "display_name": "Python 3 (ipykernel)",
   "language": "python",
   "name": "python3"
  },
  "language_info": {
   "codemirror_mode": {
    "name": "ipython",
    "version": 3
   },
   "file_extension": ".py",
   "mimetype": "text/x-python",
   "name": "python",
   "nbconvert_exporter": "python",
   "pygments_lexer": "ipython3",
   "version": "3.9.12"
  }
 },
 "nbformat": 4,
 "nbformat_minor": 5
}