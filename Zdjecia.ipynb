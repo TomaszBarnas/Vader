{
 "cells": [
  {
   "cell_type": "markdown",
   "id": "e4de7572",
   "metadata": {},
   "source": [
    "![](images/image_response.png)"
   ]
  },
  {
   "cell_type": "markdown",
   "id": "097ccd3b",
   "metadata": {},
   "source": [
    "Wpis, gdzie bez grafiki tweet jest właściwie pusty."
   ]
  },
  {
   "cell_type": "markdown",
   "id": "2c01af97",
   "metadata": {},
   "source": [
    "![](images/image_response3.png)"
   ]
  },
  {
   "cell_type": "markdown",
   "id": "9b4dfbd1",
   "metadata": {},
   "source": [
    "Wpis, gdzie na podstawie samego podpisu nie da się odczytać sensu wiadomości."
   ]
  },
  {
   "cell_type": "markdown",
   "id": "d6071275",
   "metadata": {},
   "source": [
    "![](images/image_response2.png)"
   ]
  },
  {
   "cell_type": "markdown",
   "id": "968dfc3f",
   "metadata": {},
   "source": [
    "Wpis, który bez grafiki zachowuje swoje znaczenie."
   ]
  }
 ],
 "metadata": {
  "kernelspec": {
   "display_name": "Python 3 (ipykernel)",
   "language": "python",
   "name": "python3"
  },
  "language_info": {
   "codemirror_mode": {
    "name": "ipython",
    "version": 3
   },
   "file_extension": ".py",
   "mimetype": "text/x-python",
   "name": "python",
   "nbconvert_exporter": "python",
   "pygments_lexer": "ipython3",
   "version": "3.9.7"
  }
 },
 "nbformat": 4,
 "nbformat_minor": 5
}
