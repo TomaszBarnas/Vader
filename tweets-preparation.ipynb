{
 "cells": [
  {
   "cell_type": "code",
   "execution_count": 10,
   "metadata": {
    "pycharm": {
     "name": "#%%\n"
    }
   },
   "outputs": [],
   "source": [
    "import pandas as pd\n",
    "import matplotlib.pyplot as plt"
   ]
  },
  {
   "cell_type": "code",
   "execution_count": 11,
   "metadata": {
    "pycharm": {
     "name": "#%%\n"
    }
   },
   "outputs": [
    {
     "data": {
      "text/html": [
       "<div>\n",
       "<style scoped>\n",
       "    .dataframe tbody tr th:only-of-type {\n",
       "        vertical-align: middle;\n",
       "    }\n",
       "\n",
       "    .dataframe tbody tr th {\n",
       "        vertical-align: top;\n",
       "    }\n",
       "\n",
       "    .dataframe thead th {\n",
       "        text-align: right;\n",
       "    }\n",
       "</style>\n",
       "<table border=\"1\" class=\"dataframe\">\n",
       "  <thead>\n",
       "    <tr style=\"text-align: right;\">\n",
       "      <th></th>\n",
       "      <th>tweet</th>\n",
       "      <th>sentiment</th>\n",
       "    </tr>\n",
       "  </thead>\n",
       "  <tbody>\n",
       "    <tr>\n",
       "      <th>0</th>\n",
       "      <td>Pięknie pan mówi. W stylu Gebbelsa 😂</td>\n",
       "      <td>negative</td>\n",
       "    </tr>\n",
       "    <tr>\n",
       "      <th>1</th>\n",
       "      <td>ciamajdan w Warszawie</td>\n",
       "      <td>negative</td>\n",
       "    </tr>\n",
       "    <tr>\n",
       "      <th>2</th>\n",
       "      <td>Gomułka junior zamknij się</td>\n",
       "      <td>negative</td>\n",
       "    </tr>\n",
       "    <tr>\n",
       "      <th>3</th>\n",
       "      <td>To wy Budka mówicie że będziecie siłą wyprowad...</td>\n",
       "      <td>negative</td>\n",
       "    </tr>\n",
       "    <tr>\n",
       "      <th>4</th>\n",
       "      <td>Albo Polin, albo Putin - innego wyboru nie ma.</td>\n",
       "      <td>negative</td>\n",
       "    </tr>\n",
       "    <tr>\n",
       "      <th>...</th>\n",
       "      <td>...</td>\n",
       "      <td>...</td>\n",
       "    </tr>\n",
       "    <tr>\n",
       "      <th>826</th>\n",
       "      <td>Boże Pan sobie ta wypowiedzią ukręcił bat na w...</td>\n",
       "      <td>negative</td>\n",
       "    </tr>\n",
       "    <tr>\n",
       "      <th>827</th>\n",
       "      <td>PO-wski tępak zapomniał już o ciamajdanie itp.</td>\n",
       "      <td>negative</td>\n",
       "    </tr>\n",
       "    <tr>\n",
       "      <th>828</th>\n",
       "      <td>A ciamajdan pamiętasz?</td>\n",
       "      <td>negative</td>\n",
       "    </tr>\n",
       "    <tr>\n",
       "      <th>829</th>\n",
       "      <td>🤦🤣😂🤣😂🤣. Przecież to wasza strategia.😂🤣😂🤣</td>\n",
       "      <td>negative</td>\n",
       "    </tr>\n",
       "    <tr>\n",
       "      <th>830</th>\n",
       "      <td>Otóż to, organizatorów ciamajdanu wyślijmy na ...</td>\n",
       "      <td>negative</td>\n",
       "    </tr>\n",
       "  </tbody>\n",
       "</table>\n",
       "<p>831 rows × 2 columns</p>\n",
       "</div>"
      ],
      "text/plain": [
       "                                                 tweet sentiment\n",
       "0                 Pięknie pan mówi. W stylu Gebbelsa 😂  negative\n",
       "1                                ciamajdan w Warszawie  negative\n",
       "2                           Gomułka junior zamknij się  negative\n",
       "3    To wy Budka mówicie że będziecie siłą wyprowad...  negative\n",
       "4       Albo Polin, albo Putin - innego wyboru nie ma.  negative\n",
       "..                                                 ...       ...\n",
       "826  Boże Pan sobie ta wypowiedzią ukręcił bat na w...  negative\n",
       "827     PO-wski tępak zapomniał już o ciamajdanie itp.  negative\n",
       "828                             A ciamajdan pamiętasz?  negative\n",
       "829           🤦🤣😂🤣😂🤣. Przecież to wasza strategia.😂🤣😂🤣  negative\n",
       "830  Otóż to, organizatorów ciamajdanu wyślijmy na ...  negative\n",
       "\n",
       "[831 rows x 2 columns]"
      ]
     },
     "execution_count": 11,
     "metadata": {},
     "output_type": "execute_result"
    }
   ],
   "source": [
    "csvs = [\n",
    "    'tweet-replies/budken1_classified.csv',\n",
    "    'tweet-replies/budken2_classified.csv'\n",
    "]\n",
    "\n",
    "def to_df(csv: str):\n",
    "    df_tmp = pd.read_csv(csv, header=0)\n",
    "    return df_tmp\n",
    "\n",
    "dfs = list(map(to_df, csvs))\n",
    "df = pd.concat(dfs, ignore_index=True)\n",
    "df"
   ]
  },
  {
   "cell_type": "code",
   "execution_count": 12,
   "metadata": {
    "pycharm": {
     "name": "#%%\n"
    }
   },
   "outputs": [
    {
     "data": {
      "text/plain": [
       "CategoricalDtype(categories=['negative', 'neutral', 'positive'], ordered=True)"
      ]
     },
     "execution_count": 12,
     "metadata": {},
     "output_type": "execute_result"
    }
   ],
   "source": [
    "df['sentiment'] = df['sentiment'].astype(pd.CategoricalDtype(ordered=True))\n",
    "df['sentiment'].dtype"
   ]
  },
  {
   "cell_type": "code",
   "execution_count": 13,
   "metadata": {
    "pycharm": {
     "name": "#%%\n"
    }
   },
   "outputs": [
    {
     "data": {
      "text/plain": [
       "negative    714\n",
       "neutral      66\n",
       "positive     51\n",
       "Name: sentiment, dtype: int64"
      ]
     },
     "execution_count": 13,
     "metadata": {},
     "output_type": "execute_result"
    }
   ],
   "source": [
    "df['sentiment'].value_counts()"
   ]
  },
  {
   "cell_type": "code",
   "execution_count": 14,
   "metadata": {
    "pycharm": {
     "name": "#%%\n"
    }
   },
   "outputs": [
    {
     "data": {
      "image/png": "[encoded data removed]",
      "text/plain": [
       "<Figure size 576x576 with 1 Axes>"
      ]
     },
     "metadata": {},
     "output_type": "display_data"
    }
   ],
   "source": [
    "df.groupby(['sentiment']).size().plot.pie(figsize=(8, 8))\n",
    "plt.show()"
   ]
  },
  {
   "cell_type": "code",
   "execution_count": 15,
   "metadata": {
    "pycharm": {
     "name": "#%%\n"
    }
   },
   "outputs": [
    {
     "data": {
      "text/html": [
       "<div>\n",
       "<style scoped>\n",
       "    .dataframe tbody tr th:only-of-type {\n",
       "        vertical-align: middle;\n",
       "    }\n",
       "\n",
       "    .dataframe tbody tr th {\n",
       "        vertical-align: top;\n",
       "    }\n",
       "\n",
       "    .dataframe thead th {\n",
       "        text-align: right;\n",
       "    }\n",
       "</style>\n",
       "<table border=\"1\" class=\"dataframe\">\n",
       "  <thead>\n",
       "    <tr style=\"text-align: right;\">\n",
       "      <th></th>\n",
       "      <th>tweet</th>\n",
       "      <th>sentiment</th>\n",
       "    </tr>\n",
       "  </thead>\n",
       "  <tbody>\n",
       "    <tr>\n",
       "      <th>0</th>\n",
       "      <td>Pięknie pan mówi. W stylu Gebbelsa 😂</td>\n",
       "      <td>negative</td>\n",
       "    </tr>\n",
       "    <tr>\n",
       "      <th>1</th>\n",
       "      <td>ciamajdan w Warszawie</td>\n",
       "      <td>negative</td>\n",
       "    </tr>\n",
       "    <tr>\n",
       "      <th>2</th>\n",
       "      <td>Gomułka junior zamknij się</td>\n",
       "      <td>negative</td>\n",
       "    </tr>\n",
       "    <tr>\n",
       "      <th>3</th>\n",
       "      <td>To wy Budka mówicie że będziecie siłą wyprowad...</td>\n",
       "      <td>negative</td>\n",
       "    </tr>\n",
       "    <tr>\n",
       "      <th>4</th>\n",
       "      <td>Albo Polin, albo Putin - innego wyboru nie ma.</td>\n",
       "      <td>negative</td>\n",
       "    </tr>\n",
       "    <tr>\n",
       "      <th>...</th>\n",
       "      <td>...</td>\n",
       "      <td>...</td>\n",
       "    </tr>\n",
       "    <tr>\n",
       "      <th>826</th>\n",
       "      <td>Boże Pan sobie ta wypowiedzią ukręcił bat na w...</td>\n",
       "      <td>negative</td>\n",
       "    </tr>\n",
       "    <tr>\n",
       "      <th>827</th>\n",
       "      <td>PO-wski tępak zapomniał już o ciamajdanie itp.</td>\n",
       "      <td>negative</td>\n",
       "    </tr>\n",
       "    <tr>\n",
       "      <th>828</th>\n",
       "      <td>A ciamajdan pamiętasz?</td>\n",
       "      <td>negative</td>\n",
       "    </tr>\n",
       "    <tr>\n",
       "      <th>829</th>\n",
       "      <td>🤦🤣😂🤣😂🤣. Przecież to wasza strategia.😂🤣😂🤣</td>\n",
       "      <td>negative</td>\n",
       "    </tr>\n",
       "    <tr>\n",
       "      <th>830</th>\n",
       "      <td>Otóż to, organizatorów ciamajdanu wyślijmy na ...</td>\n",
       "      <td>negative</td>\n",
       "    </tr>\n",
       "  </tbody>\n",
       "</table>\n",
       "<p>831 rows × 2 columns</p>\n",
       "</div>"
      ],
      "text/plain": [
       "                                                 tweet sentiment\n",
       "0                 Pięknie pan mówi. W stylu Gebbelsa 😂  negative\n",
       "1                                ciamajdan w Warszawie  negative\n",
       "2                           Gomułka junior zamknij się  negative\n",
       "3    To wy Budka mówicie że będziecie siłą wyprowad...  negative\n",
       "4       Albo Polin, albo Putin - innego wyboru nie ma.  negative\n",
       "..                                                 ...       ...\n",
       "826  Boże Pan sobie ta wypowiedzią ukręcił bat na w...  negative\n",
       "827     PO-wski tępak zapomniał już o ciamajdanie itp.  negative\n",
       "828                             A ciamajdan pamiętasz?  negative\n",
       "829           🤦🤣😂🤣😂🤣. Przecież to wasza strategia.😂🤣😂🤣  negative\n",
       "830  Otóż to, organizatorów ciamajdanu wyślijmy na ...  negative\n",
       "\n",
       "[831 rows x 2 columns]"
      ]
     },
     "execution_count": 15,
     "metadata": {},
     "output_type": "execute_result"
    }
   ],
   "source": [
    "df"
   ]
  },
  {
   "cell_type": "code",
   "execution_count": 16,
   "metadata": {
    "pycharm": {
     "name": "#%%\n"
    }
   },
   "outputs": [],
   "source": [
    "import translators as ts\n",
    "\n",
    "\n",
    "def translate(sentence: str):\n",
    "    from_lang = 'pl'\n",
    "    to_lang = 'en'\n",
    "    result = ts.server.google(sentence, from_language=from_lang, to_language=to_lang)\n",
    "    return result\n",
    "\n",
    "df['tweet translated'] = df['tweet'].apply(translate)"
   ]
  },
  {
   "cell_type": "code",
   "execution_count": 17,
   "metadata": {
    "pycharm": {
     "name": "#%%\n"
    }
   },
   "outputs": [
    {
     "data": {
      "text/html": [
       "<div>\n",
       "<style scoped>\n",
       "    .dataframe tbody tr th:only-of-type {\n",
       "        vertical-align: middle;\n",
       "    }\n",
       "\n",
       "    .dataframe tbody tr th {\n",
       "        vertical-align: top;\n",
       "    }\n",
       "\n",
       "    .dataframe thead th {\n",
       "        text-align: right;\n",
       "    }\n",
       "</style>\n",
       "<table border=\"1\" class=\"dataframe\">\n",
       "  <thead>\n",
       "    <tr style=\"text-align: right;\">\n",
       "      <th></th>\n",
       "      <th>tweet</th>\n",
       "      <th>tweet translated</th>\n",
       "      <th>sentiment</th>\n",
       "    </tr>\n",
       "  </thead>\n",
       "  <tbody>\n",
       "    <tr>\n",
       "      <th>0</th>\n",
       "      <td>Pięknie pan mówi. W stylu Gebbelsa 😂</td>\n",
       "      <td>You speak beautifully. In the style of gebbels 😂</td>\n",
       "      <td>negative</td>\n",
       "    </tr>\n",
       "    <tr>\n",
       "      <th>1</th>\n",
       "      <td>ciamajdan w Warszawie</td>\n",
       "      <td>Ciamajdan in Warsaw</td>\n",
       "      <td>negative</td>\n",
       "    </tr>\n",
       "    <tr>\n",
       "      <th>2</th>\n",
       "      <td>Gomułka junior zamknij się</td>\n",
       "      <td>Gomułka Junior Shut up</td>\n",
       "      <td>negative</td>\n",
       "    </tr>\n",
       "    <tr>\n",
       "      <th>3</th>\n",
       "      <td>To wy Budka mówicie że będziecie siłą wyprowad...</td>\n",
       "      <td>You say that you say that you will force peopl...</td>\n",
       "      <td>negative</td>\n",
       "    </tr>\n",
       "    <tr>\n",
       "      <th>4</th>\n",
       "      <td>Albo Polin, albo Putin - innego wyboru nie ma.</td>\n",
       "      <td>Either Polin or Putin - there is no other choice.</td>\n",
       "      <td>negative</td>\n",
       "    </tr>\n",
       "    <tr>\n",
       "      <th>...</th>\n",
       "      <td>...</td>\n",
       "      <td>...</td>\n",
       "      <td>...</td>\n",
       "    </tr>\n",
       "    <tr>\n",
       "      <th>826</th>\n",
       "      <td>Boże Pan sobie ta wypowiedzią ukręcił bat na w...</td>\n",
       "      <td>God, this statement, touched the bat on his ow...</td>\n",
       "      <td>negative</td>\n",
       "    </tr>\n",
       "    <tr>\n",
       "      <th>827</th>\n",
       "      <td>PO-wski tępak zapomniał już o ciamajdanie itp.</td>\n",
       "      <td>PO-WSKA GRUPAK has already forgotten about Cia...</td>\n",
       "      <td>negative</td>\n",
       "    </tr>\n",
       "    <tr>\n",
       "      <th>828</th>\n",
       "      <td>A ciamajdan pamiętasz?</td>\n",
       "      <td>Do you remember Ciamajdan?</td>\n",
       "      <td>negative</td>\n",
       "    </tr>\n",
       "    <tr>\n",
       "      <th>829</th>\n",
       "      <td>🤦🤣😂🤣😂🤣. Przecież to wasza strategia.😂🤣😂🤣</td>\n",
       "      <td>🤦🤣 vacing. It's your strategy.</td>\n",
       "      <td>negative</td>\n",
       "    </tr>\n",
       "    <tr>\n",
       "      <th>830</th>\n",
       "      <td>Otóż to, organizatorów ciamajdanu wyślijmy na ...</td>\n",
       "      <td>Well, let's send the organizers of Ciamjdan to...</td>\n",
       "      <td>negative</td>\n",
       "    </tr>\n",
       "  </tbody>\n",
       "</table>\n",
       "<p>831 rows × 3 columns</p>\n",
       "</div>"
      ],
      "text/plain": [
       "                                                 tweet  \\\n",
       "0                 Pięknie pan mówi. W stylu Gebbelsa 😂   \n",
       "1                                ciamajdan w Warszawie   \n",
       "2                           Gomułka junior zamknij się   \n",
       "3    To wy Budka mówicie że będziecie siłą wyprowad...   \n",
       "4       Albo Polin, albo Putin - innego wyboru nie ma.   \n",
       "..                                                 ...   \n",
       "826  Boże Pan sobie ta wypowiedzią ukręcił bat na w...   \n",
       "827     PO-wski tępak zapomniał już o ciamajdanie itp.   \n",
       "828                             A ciamajdan pamiętasz?   \n",
       "829           🤦🤣😂🤣😂🤣. Przecież to wasza strategia.😂🤣😂🤣   \n",
       "830  Otóż to, organizatorów ciamajdanu wyślijmy na ...   \n",
       "\n",
       "                                      tweet translated sentiment  \n",
       "0     You speak beautifully. In the style of gebbels 😂  negative  \n",
       "1                                  Ciamajdan in Warsaw  negative  \n",
       "2                               Gomułka Junior Shut up  negative  \n",
       "3    You say that you say that you will force peopl...  negative  \n",
       "4    Either Polin or Putin - there is no other choice.  negative  \n",
       "..                                                 ...       ...  \n",
       "826  God, this statement, touched the bat on his ow...  negative  \n",
       "827  PO-WSKA GRUPAK has already forgotten about Cia...  negative  \n",
       "828                         Do you remember Ciamajdan?  negative  \n",
       "829                     🤦🤣 vacing. It's your strategy.  negative  \n",
       "830  Well, let's send the organizers of Ciamjdan to...  negative  \n",
       "\n",
       "[831 rows x 3 columns]"
      ]
     },
     "execution_count": 17,
     "metadata": {},
     "output_type": "execute_result"
    }
   ],
   "source": [
    "df = df[['tweet', 'tweet translated', 'sentiment']]\n",
    "df"
   ]
  },
  {
   "cell_type": "code",
   "execution_count": 18,
   "metadata": {
    "pycharm": {
     "name": "#%%\n"
    }
   },
   "outputs": [],
   "source": [
    "df.to_csv('tweet-replies/bbudka-replies-full.csv', header=True, index=False)"
   ]
  },
  {
   "cell_type": "code",
   "execution_count": null,
   "metadata": {},
   "outputs": [],
   "source": []
  }
 ],
 "metadata": {
  "kernelspec": {
   "display_name": "Python 3 (ipykernel)",
   "language": "python",
   "name": "python3"
  },
  "language_info": {
   "codemirror_mode": {
    "name": "ipython",
    "version": 3
   },
   "file_extension": ".py",
   "mimetype": "text/x-python",
   "name": "python",
   "nbconvert_exporter": "python",
   "pygments_lexer": "ipython3",
   "version": "3.9.7"
  }
 },
 "nbformat": 4,
 "nbformat_minor": 1
}
