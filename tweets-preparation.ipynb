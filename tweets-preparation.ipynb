{
 "cells": [
  {
   "cell_type": "code",
   "execution_count": 1,
   "metadata": {
    "collapsed": true,
    "pycharm": {
     "name": "#%%\n"
    }
   },
   "outputs": [],
   "source": [
    "import pandas as pd\n",
    "import matplotlib.pyplot as plt"
   ]
  },
  {
   "cell_type": "code",
   "execution_count": 9,
   "outputs": [
    {
     "data": {
      "text/plain": "                                                 tweet sentiment\n0                 Pięknie pan mówi. W stylu Gebbelsa 😂  negative\n1                                ciamajdan w Warszawie  negative\n2                           Gomułka junior zamknij się  negative\n3    To wy Budka mówicie że będziecie siłą wyprowad...  negative\n4       Albo Polin, albo Putin - innego wyboru nie ma.  negative\n..                                                 ...       ...\n410  Z takim łysym cymbałem to nie można dyskutować...  negative\n411                                          O koryto.  negative\n412  To nie opozycja łamała ład sejmowy. Wtedy nie ...   neutral\n413  Łysy ciulu, ale to wy nie uznajecie wyboru prz...  negative\n414           Chyba że ty to robisz, to wtedy jest ok.  negative\n\n[415 rows x 2 columns]",
      "text/html": "<div>\n<style scoped>\n    .dataframe tbody tr th:only-of-type {\n        vertical-align: middle;\n    }\n\n    .dataframe tbody tr th {\n        vertical-align: top;\n    }\n\n    .dataframe thead th {\n        text-align: right;\n    }\n</style>\n<table border=\"1\" class=\"dataframe\">\n  <thead>\n    <tr style=\"text-align: right;\">\n      <th></th>\n      <th>tweet</th>\n      <th>sentiment</th>\n    </tr>\n  </thead>\n  <tbody>\n    <tr>\n      <th>0</th>\n      <td>Pięknie pan mówi. W stylu Gebbelsa 😂</td>\n      <td>negative</td>\n    </tr>\n    <tr>\n      <th>1</th>\n      <td>ciamajdan w Warszawie</td>\n      <td>negative</td>\n    </tr>\n    <tr>\n      <th>2</th>\n      <td>Gomułka junior zamknij się</td>\n      <td>negative</td>\n    </tr>\n    <tr>\n      <th>3</th>\n      <td>To wy Budka mówicie że będziecie siłą wyprowad...</td>\n      <td>negative</td>\n    </tr>\n    <tr>\n      <th>4</th>\n      <td>Albo Polin, albo Putin - innego wyboru nie ma.</td>\n      <td>negative</td>\n    </tr>\n    <tr>\n      <th>...</th>\n      <td>...</td>\n      <td>...</td>\n    </tr>\n    <tr>\n      <th>410</th>\n      <td>Z takim łysym cymbałem to nie można dyskutować...</td>\n      <td>negative</td>\n    </tr>\n    <tr>\n      <th>411</th>\n      <td>O koryto.</td>\n      <td>negative</td>\n    </tr>\n    <tr>\n      <th>412</th>\n      <td>To nie opozycja łamała ład sejmowy. Wtedy nie ...</td>\n      <td>neutral</td>\n    </tr>\n    <tr>\n      <th>413</th>\n      <td>Łysy ciulu, ale to wy nie uznajecie wyboru prz...</td>\n      <td>negative</td>\n    </tr>\n    <tr>\n      <th>414</th>\n      <td>Chyba że ty to robisz, to wtedy jest ok.</td>\n      <td>negative</td>\n    </tr>\n  </tbody>\n</table>\n<p>415 rows × 2 columns</p>\n</div>"
     },
     "execution_count": 9,
     "metadata": {},
     "output_type": "execute_result"
    }
   ],
   "source": [
    "csvs = ['tweet-replies/budken1_classified.csv']\n",
    "\n",
    "def to_df(csv: str):\n",
    "    df_tmp = pd.read_csv(csv, header=0)\n",
    "    return df_tmp\n",
    "\n",
    "dfs = list(map(to_df, csvs))\n",
    "df = pd.concat(dfs)\n",
    "df"
   ],
   "metadata": {
    "collapsed": false,
    "pycharm": {
     "name": "#%%\n"
    }
   }
  },
  {
   "cell_type": "code",
   "execution_count": 18,
   "outputs": [
    {
     "data": {
      "text/plain": "CategoricalDtype(categories=['negative', 'neutral', 'positive'], ordered=True)"
     },
     "execution_count": 18,
     "metadata": {},
     "output_type": "execute_result"
    }
   ],
   "source": [
    "df['sentiment'] = df['sentiment'].astype(pd.CategoricalDtype(ordered=True))\n",
    "df['sentiment'].dtype"
   ],
   "metadata": {
    "collapsed": false,
    "pycharm": {
     "name": "#%%\n"
    }
   }
  },
  {
   "cell_type": "code",
   "execution_count": 19,
   "outputs": [
    {
     "data": {
      "text/plain": "negative    356\nneutral      34\npositive     25\nName: sentiment, dtype: int64"
     },
     "execution_count": 19,
     "metadata": {},
     "output_type": "execute_result"
    }
   ],
   "source": [
    "df['sentiment'].value_counts()"
   ],
   "metadata": {
    "collapsed": false,
    "pycharm": {
     "name": "#%%\n"
    }
   }
  },
  {
   "cell_type": "code",
   "execution_count": 21,
   "outputs": [
    {
     "data": {
      "text/plain": "<Figure size 576x576 with 1 Axes>",
      "image/png": "[encoded data removed]"
     },
     "metadata": {},
     "output_type": "display_data"
    }
   ],
   "source": [
    "df.groupby(['sentiment']).size().plot.pie(figsize=(8, 8))\n",
    "plt.show()"
   ],
   "metadata": {
    "collapsed": false,
    "pycharm": {
     "name": "#%%\n"
    }
   }
  },
  {
   "cell_type": "code",
   "execution_count": 24,
   "outputs": [],
   "source": [
    "df.to_csv('tweet-replies/bbudka-replies-full.csv', header=True, index=False)"
   ],
   "metadata": {
    "collapsed": false,
    "pycharm": {
     "name": "#%%\n"
    }
   }
  }
 ],
 "metadata": {
  "kernelspec": {
   "display_name": "Python 3",
   "language": "python",
   "name": "python3"
  },
  "language_info": {
   "codemirror_mode": {
    "name": "ipython",
    "version": 2
   },
   "file_extension": ".py",
   "mimetype": "text/x-python",
   "name": "python",
   "nbconvert_exporter": "python",
   "pygments_lexer": "ipython2",
   "version": "2.7.6"
  }
 },
 "nbformat": 4,
 "nbformat_minor": 0
}